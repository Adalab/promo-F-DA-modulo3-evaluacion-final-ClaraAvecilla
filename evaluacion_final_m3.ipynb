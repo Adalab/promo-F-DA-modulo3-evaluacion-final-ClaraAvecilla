{
 "cells": [
  {
   "cell_type": "code",
   "execution_count": 201,
   "metadata": {},
   "outputs": [],
   "source": [
    "\n",
    "# importamos las librerías que necesitamos\n",
    "\n",
    "# Tratamiento de datos\n",
    "# -----------------------------------------------------------------------\n",
    "import pandas as pd\n",
    "import numpy as np\n",
    "\n",
    "# Visualización\n",
    "# ------------------------------------------------------------------------------\n",
    "import matplotlib.pyplot as plt\n",
    "import seaborn as sns\n",
    "\n",
    "# Imputación de nulos usando métodos avanzados estadísticos\n",
    "# -----------------------------------------------------------------------\n",
    "from sklearn.impute import SimpleImputer\n",
    "from sklearn.experimental import enable_iterative_imputer\n",
    "from sklearn.impute import IterativeImputer\n",
    "from sklearn.impute import KNNImputer\n",
    "\n",
    "# Evaluar linealidad de las relaciones entre las variables\n",
    "# y la distribución de las variables\n",
    "# ------------------------------------------------------------------------------\n",
    "import scipy.stats as stats\n",
    "from scipy.stats import shapiro, poisson, chisquare, expon, kstest\n",
    "from scipy.stats import ttest_ind\n",
    "\n",
    "\n",
    "# Configuración\n",
    "# -----------------------------------------------------------------------\n",
    "pd.set_option('display.max_columns', None) # para poder visualizar todas las columnas de los DataFrames\n",
    "\n",
    "# Gestión de los warnings\n",
    "# -----------------------------------------------------------------------\n",
    "import warnings\n",
    "warnings.filterwarnings(\"ignore\")\n",
    "\n",
    "\n",
    "from itertools import combinations\n"
   ]
  },
  {
   "cell_type": "markdown",
   "metadata": {},
   "source": [
    "# Fase 1: Exploración y Limpieza\n",
    "\n",
    "\n",
    "**1- Exploración Inicial:**\n",
    "\n",
    "- Realiza una exploración inicial de los datos para identificar posibles problemas, como valores nulos, atípicos o datos faltantes en las columnas relevantes.\n",
    "\n",
    "- Utiliza funciones de Pandas para obtener información sobre la estructura de los datos, la presencia de valores nulos y estadísticas básicas de las columnas involucradas.\n",
    "\n",
    "- Uno los dos conjuntos de datos de la forma más eficiente."
   ]
  },
  {
   "cell_type": "code",
   "execution_count": 202,
   "metadata": {},
   "outputs": [
    {
     "data": {
      "text/html": [
       "<div>\n",
       "<style scoped>\n",
       "    .dataframe tbody tr th:only-of-type {\n",
       "        vertical-align: middle;\n",
       "    }\n",
       "\n",
       "    .dataframe tbody tr th {\n",
       "        vertical-align: top;\n",
       "    }\n",
       "\n",
       "    .dataframe thead th {\n",
       "        text-align: right;\n",
       "    }\n",
       "</style>\n",
       "<table border=\"1\" class=\"dataframe\">\n",
       "  <thead>\n",
       "    <tr style=\"text-align: right;\">\n",
       "      <th></th>\n",
       "      <th>Loyalty Number</th>\n",
       "      <th>Year</th>\n",
       "      <th>Month</th>\n",
       "      <th>Flights Booked</th>\n",
       "      <th>Flights with Companions</th>\n",
       "      <th>Total Flights</th>\n",
       "      <th>Distance</th>\n",
       "      <th>Points Accumulated</th>\n",
       "      <th>Points Redeemed</th>\n",
       "      <th>Dollar Cost Points Redeemed</th>\n",
       "    </tr>\n",
       "  </thead>\n",
       "  <tbody>\n",
       "    <tr>\n",
       "      <th>0</th>\n",
       "      <td>100018</td>\n",
       "      <td>2017</td>\n",
       "      <td>1</td>\n",
       "      <td>3</td>\n",
       "      <td>0</td>\n",
       "      <td>3</td>\n",
       "      <td>1521</td>\n",
       "      <td>152.0</td>\n",
       "      <td>0</td>\n",
       "      <td>0</td>\n",
       "    </tr>\n",
       "    <tr>\n",
       "      <th>1</th>\n",
       "      <td>100102</td>\n",
       "      <td>2017</td>\n",
       "      <td>1</td>\n",
       "      <td>10</td>\n",
       "      <td>4</td>\n",
       "      <td>14</td>\n",
       "      <td>2030</td>\n",
       "      <td>203.0</td>\n",
       "      <td>0</td>\n",
       "      <td>0</td>\n",
       "    </tr>\n",
       "    <tr>\n",
       "      <th>2</th>\n",
       "      <td>100140</td>\n",
       "      <td>2017</td>\n",
       "      <td>1</td>\n",
       "      <td>6</td>\n",
       "      <td>0</td>\n",
       "      <td>6</td>\n",
       "      <td>1200</td>\n",
       "      <td>120.0</td>\n",
       "      <td>0</td>\n",
       "      <td>0</td>\n",
       "    </tr>\n",
       "    <tr>\n",
       "      <th>3</th>\n",
       "      <td>100214</td>\n",
       "      <td>2017</td>\n",
       "      <td>1</td>\n",
       "      <td>0</td>\n",
       "      <td>0</td>\n",
       "      <td>0</td>\n",
       "      <td>0</td>\n",
       "      <td>0.0</td>\n",
       "      <td>0</td>\n",
       "      <td>0</td>\n",
       "    </tr>\n",
       "    <tr>\n",
       "      <th>4</th>\n",
       "      <td>100272</td>\n",
       "      <td>2017</td>\n",
       "      <td>1</td>\n",
       "      <td>0</td>\n",
       "      <td>0</td>\n",
       "      <td>0</td>\n",
       "      <td>0</td>\n",
       "      <td>0.0</td>\n",
       "      <td>0</td>\n",
       "      <td>0</td>\n",
       "    </tr>\n",
       "  </tbody>\n",
       "</table>\n",
       "</div>"
      ],
      "text/plain": [
       "   Loyalty Number  Year  Month  Flights Booked  Flights with Companions  \\\n",
       "0          100018  2017      1               3                        0   \n",
       "1          100102  2017      1              10                        4   \n",
       "2          100140  2017      1               6                        0   \n",
       "3          100214  2017      1               0                        0   \n",
       "4          100272  2017      1               0                        0   \n",
       "\n",
       "   Total Flights  Distance  Points Accumulated  Points Redeemed  \\\n",
       "0              3      1521               152.0                0   \n",
       "1             14      2030               203.0                0   \n",
       "2              6      1200               120.0                0   \n",
       "3              0         0                 0.0                0   \n",
       "4              0         0                 0.0                0   \n",
       "\n",
       "   Dollar Cost Points Redeemed  \n",
       "0                            0  \n",
       "1                            0  \n",
       "2                            0  \n",
       "3                            0  \n",
       "4                            0  "
      ]
     },
     "execution_count": 202,
     "metadata": {},
     "output_type": "execute_result"
    }
   ],
   "source": [
    "df_flight = pd.read_csv(\"Customer Flight Activity.csv\")\n",
    "df_flight.head(5)"
   ]
  },
  {
   "cell_type": "code",
   "execution_count": 203,
   "metadata": {},
   "outputs": [
    {
     "data": {
      "text/html": [
       "<div>\n",
       "<style scoped>\n",
       "    .dataframe tbody tr th:only-of-type {\n",
       "        vertical-align: middle;\n",
       "    }\n",
       "\n",
       "    .dataframe tbody tr th {\n",
       "        vertical-align: top;\n",
       "    }\n",
       "\n",
       "    .dataframe thead th {\n",
       "        text-align: right;\n",
       "    }\n",
       "</style>\n",
       "<table border=\"1\" class=\"dataframe\">\n",
       "  <thead>\n",
       "    <tr style=\"text-align: right;\">\n",
       "      <th></th>\n",
       "      <th>Loyalty Number</th>\n",
       "      <th>Country</th>\n",
       "      <th>Province</th>\n",
       "      <th>City</th>\n",
       "      <th>Postal Code</th>\n",
       "      <th>Gender</th>\n",
       "      <th>Education</th>\n",
       "      <th>Salary</th>\n",
       "      <th>Marital Status</th>\n",
       "      <th>Loyalty Card</th>\n",
       "      <th>CLV</th>\n",
       "      <th>Enrollment Type</th>\n",
       "      <th>Enrollment Year</th>\n",
       "      <th>Enrollment Month</th>\n",
       "      <th>Cancellation Year</th>\n",
       "      <th>Cancellation Month</th>\n",
       "    </tr>\n",
       "  </thead>\n",
       "  <tbody>\n",
       "    <tr>\n",
       "      <th>0</th>\n",
       "      <td>480934</td>\n",
       "      <td>Canada</td>\n",
       "      <td>Ontario</td>\n",
       "      <td>Toronto</td>\n",
       "      <td>M2Z 4K1</td>\n",
       "      <td>Female</td>\n",
       "      <td>Bachelor</td>\n",
       "      <td>83236.0</td>\n",
       "      <td>Married</td>\n",
       "      <td>Star</td>\n",
       "      <td>3839.14</td>\n",
       "      <td>Standard</td>\n",
       "      <td>2016</td>\n",
       "      <td>2</td>\n",
       "      <td>NaN</td>\n",
       "      <td>NaN</td>\n",
       "    </tr>\n",
       "    <tr>\n",
       "      <th>1</th>\n",
       "      <td>549612</td>\n",
       "      <td>Canada</td>\n",
       "      <td>Alberta</td>\n",
       "      <td>Edmonton</td>\n",
       "      <td>T3G 6Y6</td>\n",
       "      <td>Male</td>\n",
       "      <td>College</td>\n",
       "      <td>NaN</td>\n",
       "      <td>Divorced</td>\n",
       "      <td>Star</td>\n",
       "      <td>3839.61</td>\n",
       "      <td>Standard</td>\n",
       "      <td>2016</td>\n",
       "      <td>3</td>\n",
       "      <td>NaN</td>\n",
       "      <td>NaN</td>\n",
       "    </tr>\n",
       "    <tr>\n",
       "      <th>2</th>\n",
       "      <td>429460</td>\n",
       "      <td>Canada</td>\n",
       "      <td>British Columbia</td>\n",
       "      <td>Vancouver</td>\n",
       "      <td>V6E 3D9</td>\n",
       "      <td>Male</td>\n",
       "      <td>College</td>\n",
       "      <td>NaN</td>\n",
       "      <td>Single</td>\n",
       "      <td>Star</td>\n",
       "      <td>3839.75</td>\n",
       "      <td>Standard</td>\n",
       "      <td>2014</td>\n",
       "      <td>7</td>\n",
       "      <td>2018.0</td>\n",
       "      <td>1.0</td>\n",
       "    </tr>\n",
       "    <tr>\n",
       "      <th>3</th>\n",
       "      <td>608370</td>\n",
       "      <td>Canada</td>\n",
       "      <td>Ontario</td>\n",
       "      <td>Toronto</td>\n",
       "      <td>P1W 1K4</td>\n",
       "      <td>Male</td>\n",
       "      <td>College</td>\n",
       "      <td>NaN</td>\n",
       "      <td>Single</td>\n",
       "      <td>Star</td>\n",
       "      <td>3839.75</td>\n",
       "      <td>Standard</td>\n",
       "      <td>2013</td>\n",
       "      <td>2</td>\n",
       "      <td>NaN</td>\n",
       "      <td>NaN</td>\n",
       "    </tr>\n",
       "    <tr>\n",
       "      <th>4</th>\n",
       "      <td>530508</td>\n",
       "      <td>Canada</td>\n",
       "      <td>Quebec</td>\n",
       "      <td>Hull</td>\n",
       "      <td>J8Y 3Z5</td>\n",
       "      <td>Male</td>\n",
       "      <td>Bachelor</td>\n",
       "      <td>103495.0</td>\n",
       "      <td>Married</td>\n",
       "      <td>Star</td>\n",
       "      <td>3842.79</td>\n",
       "      <td>Standard</td>\n",
       "      <td>2014</td>\n",
       "      <td>10</td>\n",
       "      <td>NaN</td>\n",
       "      <td>NaN</td>\n",
       "    </tr>\n",
       "  </tbody>\n",
       "</table>\n",
       "</div>"
      ],
      "text/plain": [
       "   Loyalty Number Country          Province       City Postal Code  Gender  \\\n",
       "0          480934  Canada           Ontario    Toronto     M2Z 4K1  Female   \n",
       "1          549612  Canada           Alberta   Edmonton     T3G 6Y6    Male   \n",
       "2          429460  Canada  British Columbia  Vancouver     V6E 3D9    Male   \n",
       "3          608370  Canada           Ontario    Toronto     P1W 1K4    Male   \n",
       "4          530508  Canada            Quebec       Hull     J8Y 3Z5    Male   \n",
       "\n",
       "  Education    Salary Marital Status Loyalty Card      CLV Enrollment Type  \\\n",
       "0  Bachelor   83236.0        Married         Star  3839.14        Standard   \n",
       "1   College       NaN       Divorced         Star  3839.61        Standard   \n",
       "2   College       NaN         Single         Star  3839.75        Standard   \n",
       "3   College       NaN         Single         Star  3839.75        Standard   \n",
       "4  Bachelor  103495.0        Married         Star  3842.79        Standard   \n",
       "\n",
       "   Enrollment Year  Enrollment Month  Cancellation Year  Cancellation Month  \n",
       "0             2016                 2                NaN                 NaN  \n",
       "1             2016                 3                NaN                 NaN  \n",
       "2             2014                 7             2018.0                 1.0  \n",
       "3             2013                 2                NaN                 NaN  \n",
       "4             2014                10                NaN                 NaN  "
      ]
     },
     "execution_count": 203,
     "metadata": {},
     "output_type": "execute_result"
    }
   ],
   "source": [
    "df_customer = pd.read_csv(\"Customer Loyalty History.csv\")\n",
    "df_customer.head(5)"
   ]
  },
  {
   "cell_type": "markdown",
   "metadata": {},
   "source": [
    "1: analizo el DF flight:"
   ]
  },
  {
   "cell_type": "code",
   "execution_count": 204,
   "metadata": {},
   "outputs": [
    {
     "name": "stdout",
     "output_type": "stream",
     "text": [
      "<class 'pandas.core.frame.DataFrame'>\n",
      "RangeIndex: 405624 entries, 0 to 405623\n",
      "Data columns (total 10 columns):\n",
      " #   Column                       Non-Null Count   Dtype  \n",
      "---  ------                       --------------   -----  \n",
      " 0   Loyalty Number               405624 non-null  int64  \n",
      " 1   Year                         405624 non-null  int64  \n",
      " 2   Month                        405624 non-null  int64  \n",
      " 3   Flights Booked               405624 non-null  int64  \n",
      " 4   Flights with Companions      405624 non-null  int64  \n",
      " 5   Total Flights                405624 non-null  int64  \n",
      " 6   Distance                     405624 non-null  int64  \n",
      " 7   Points Accumulated           405624 non-null  float64\n",
      " 8   Points Redeemed              405624 non-null  int64  \n",
      " 9   Dollar Cost Points Redeemed  405624 non-null  int64  \n",
      "dtypes: float64(1), int64(9)\n",
      "memory usage: 30.9 MB\n"
     ]
    }
   ],
   "source": [
    "df_flight.info()"
   ]
  },
  {
   "cell_type": "code",
   "execution_count": 205,
   "metadata": {},
   "outputs": [
    {
     "data": {
      "text/html": [
       "<div>\n",
       "<style scoped>\n",
       "    .dataframe tbody tr th:only-of-type {\n",
       "        vertical-align: middle;\n",
       "    }\n",
       "\n",
       "    .dataframe tbody tr th {\n",
       "        vertical-align: top;\n",
       "    }\n",
       "\n",
       "    .dataframe thead th {\n",
       "        text-align: right;\n",
       "    }\n",
       "</style>\n",
       "<table border=\"1\" class=\"dataframe\">\n",
       "  <thead>\n",
       "    <tr style=\"text-align: right;\">\n",
       "      <th></th>\n",
       "      <th>Loyalty Number</th>\n",
       "      <th>Year</th>\n",
       "      <th>Month</th>\n",
       "      <th>Flights Booked</th>\n",
       "      <th>Flights with Companions</th>\n",
       "      <th>Total Flights</th>\n",
       "      <th>Distance</th>\n",
       "      <th>Points Accumulated</th>\n",
       "      <th>Points Redeemed</th>\n",
       "      <th>Dollar Cost Points Redeemed</th>\n",
       "    </tr>\n",
       "  </thead>\n",
       "  <tbody>\n",
       "    <tr>\n",
       "      <th>count</th>\n",
       "      <td>405624.000000</td>\n",
       "      <td>405624.000000</td>\n",
       "      <td>405624.000000</td>\n",
       "      <td>405624.000000</td>\n",
       "      <td>405624.000000</td>\n",
       "      <td>405624.000000</td>\n",
       "      <td>405624.000000</td>\n",
       "      <td>405624.000000</td>\n",
       "      <td>405624.000000</td>\n",
       "      <td>405624.000000</td>\n",
       "    </tr>\n",
       "    <tr>\n",
       "      <th>mean</th>\n",
       "      <td>550037.873084</td>\n",
       "      <td>2017.500000</td>\n",
       "      <td>6.500000</td>\n",
       "      <td>4.115052</td>\n",
       "      <td>1.031805</td>\n",
       "      <td>5.146858</td>\n",
       "      <td>1208.880059</td>\n",
       "      <td>123.692721</td>\n",
       "      <td>30.696872</td>\n",
       "      <td>2.484503</td>\n",
       "    </tr>\n",
       "    <tr>\n",
       "      <th>std</th>\n",
       "      <td>258935.286969</td>\n",
       "      <td>0.500001</td>\n",
       "      <td>3.452057</td>\n",
       "      <td>5.225518</td>\n",
       "      <td>2.076869</td>\n",
       "      <td>6.521227</td>\n",
       "      <td>1433.155320</td>\n",
       "      <td>146.599831</td>\n",
       "      <td>125.486049</td>\n",
       "      <td>10.150038</td>\n",
       "    </tr>\n",
       "    <tr>\n",
       "      <th>min</th>\n",
       "      <td>100018.000000</td>\n",
       "      <td>2017.000000</td>\n",
       "      <td>1.000000</td>\n",
       "      <td>0.000000</td>\n",
       "      <td>0.000000</td>\n",
       "      <td>0.000000</td>\n",
       "      <td>0.000000</td>\n",
       "      <td>0.000000</td>\n",
       "      <td>0.000000</td>\n",
       "      <td>0.000000</td>\n",
       "    </tr>\n",
       "    <tr>\n",
       "      <th>25%</th>\n",
       "      <td>326961.000000</td>\n",
       "      <td>2017.000000</td>\n",
       "      <td>3.750000</td>\n",
       "      <td>0.000000</td>\n",
       "      <td>0.000000</td>\n",
       "      <td>0.000000</td>\n",
       "      <td>0.000000</td>\n",
       "      <td>0.000000</td>\n",
       "      <td>0.000000</td>\n",
       "      <td>0.000000</td>\n",
       "    </tr>\n",
       "    <tr>\n",
       "      <th>50%</th>\n",
       "      <td>550834.000000</td>\n",
       "      <td>2017.500000</td>\n",
       "      <td>6.500000</td>\n",
       "      <td>1.000000</td>\n",
       "      <td>0.000000</td>\n",
       "      <td>1.000000</td>\n",
       "      <td>488.000000</td>\n",
       "      <td>50.000000</td>\n",
       "      <td>0.000000</td>\n",
       "      <td>0.000000</td>\n",
       "    </tr>\n",
       "    <tr>\n",
       "      <th>75%</th>\n",
       "      <td>772194.000000</td>\n",
       "      <td>2018.000000</td>\n",
       "      <td>9.250000</td>\n",
       "      <td>8.000000</td>\n",
       "      <td>1.000000</td>\n",
       "      <td>10.000000</td>\n",
       "      <td>2336.000000</td>\n",
       "      <td>239.000000</td>\n",
       "      <td>0.000000</td>\n",
       "      <td>0.000000</td>\n",
       "    </tr>\n",
       "    <tr>\n",
       "      <th>max</th>\n",
       "      <td>999986.000000</td>\n",
       "      <td>2018.000000</td>\n",
       "      <td>12.000000</td>\n",
       "      <td>21.000000</td>\n",
       "      <td>11.000000</td>\n",
       "      <td>32.000000</td>\n",
       "      <td>6293.000000</td>\n",
       "      <td>676.500000</td>\n",
       "      <td>876.000000</td>\n",
       "      <td>71.000000</td>\n",
       "    </tr>\n",
       "  </tbody>\n",
       "</table>\n",
       "</div>"
      ],
      "text/plain": [
       "       Loyalty Number           Year          Month  Flights Booked  \\\n",
       "count   405624.000000  405624.000000  405624.000000   405624.000000   \n",
       "mean    550037.873084    2017.500000       6.500000        4.115052   \n",
       "std     258935.286969       0.500001       3.452057        5.225518   \n",
       "min     100018.000000    2017.000000       1.000000        0.000000   \n",
       "25%     326961.000000    2017.000000       3.750000        0.000000   \n",
       "50%     550834.000000    2017.500000       6.500000        1.000000   \n",
       "75%     772194.000000    2018.000000       9.250000        8.000000   \n",
       "max     999986.000000    2018.000000      12.000000       21.000000   \n",
       "\n",
       "       Flights with Companions  Total Flights       Distance  \\\n",
       "count            405624.000000  405624.000000  405624.000000   \n",
       "mean                  1.031805       5.146858    1208.880059   \n",
       "std                   2.076869       6.521227    1433.155320   \n",
       "min                   0.000000       0.000000       0.000000   \n",
       "25%                   0.000000       0.000000       0.000000   \n",
       "50%                   0.000000       1.000000     488.000000   \n",
       "75%                   1.000000      10.000000    2336.000000   \n",
       "max                  11.000000      32.000000    6293.000000   \n",
       "\n",
       "       Points Accumulated  Points Redeemed  Dollar Cost Points Redeemed  \n",
       "count       405624.000000    405624.000000                405624.000000  \n",
       "mean           123.692721        30.696872                     2.484503  \n",
       "std            146.599831       125.486049                    10.150038  \n",
       "min              0.000000         0.000000                     0.000000  \n",
       "25%              0.000000         0.000000                     0.000000  \n",
       "50%             50.000000         0.000000                     0.000000  \n",
       "75%            239.000000         0.000000                     0.000000  \n",
       "max            676.500000       876.000000                    71.000000  "
      ]
     },
     "execution_count": 205,
     "metadata": {},
     "output_type": "execute_result"
    }
   ],
   "source": [
    "df_flight.describe()"
   ]
  },
  {
   "cell_type": "code",
   "execution_count": 206,
   "metadata": {},
   "outputs": [
    {
     "data": {
      "text/plain": [
       "(405624, 10)"
      ]
     },
     "execution_count": 206,
     "metadata": {},
     "output_type": "execute_result"
    }
   ],
   "source": [
    "df_flight.shape"
   ]
  },
  {
   "cell_type": "code",
   "execution_count": 207,
   "metadata": {},
   "outputs": [
    {
     "data": {
      "text/plain": [
       "Index(['Loyalty Number', 'Year', 'Month', 'Flights Booked',\n",
       "       'Flights with Companions', 'Total Flights', 'Distance',\n",
       "       'Points Accumulated', 'Points Redeemed', 'Dollar Cost Points Redeemed'],\n",
       "      dtype='object')"
      ]
     },
     "execution_count": 207,
     "metadata": {},
     "output_type": "execute_result"
    }
   ],
   "source": [
    "df_flight.columns"
   ]
  },
  {
   "cell_type": "code",
   "execution_count": 208,
   "metadata": {},
   "outputs": [
    {
     "data": {
      "text/plain": [
       "Loyalty Number                 0\n",
       "Year                           0\n",
       "Month                          0\n",
       "Flights Booked                 0\n",
       "Flights with Companions        0\n",
       "Total Flights                  0\n",
       "Distance                       0\n",
       "Points Accumulated             0\n",
       "Points Redeemed                0\n",
       "Dollar Cost Points Redeemed    0\n",
       "dtype: int64"
      ]
     },
     "execution_count": 208,
     "metadata": {},
     "output_type": "execute_result"
    }
   ],
   "source": [
    "df_flight.isnull().sum()"
   ]
  },
  {
   "cell_type": "code",
   "execution_count": 209,
   "metadata": {},
   "outputs": [
    {
     "data": {
      "text/plain": [
       "1864"
      ]
     },
     "execution_count": 209,
     "metadata": {},
     "output_type": "execute_result"
    }
   ],
   "source": [
    "df_flight.duplicated().sum()"
   ]
  },
  {
   "cell_type": "code",
   "execution_count": 210,
   "metadata": {},
   "outputs": [
    {
     "data": {
      "text/plain": [
       "Points Redeemed\n",
       "0      381443\n",
       "447       103\n",
       "523       100\n",
       "443        98\n",
       "516        97\n",
       "        ...  \n",
       "834         1\n",
       "858         1\n",
       "862         1\n",
       "869         1\n",
       "859         1\n",
       "Name: count, Length: 587, dtype: int64"
      ]
     },
     "execution_count": 210,
     "metadata": {},
     "output_type": "execute_result"
    }
   ],
   "source": [
    "# En la columna Point Redeemed a primera vsta hay muchos 0. Hago una exploración para ver si toda la columna son 0\n",
    "# Como hay más datos, la columna se queda\n",
    "\n",
    "df_flight['Points Redeemed'].value_counts()\n"
   ]
  },
  {
   "cell_type": "code",
   "execution_count": 211,
   "metadata": {},
   "outputs": [
    {
     "data": {
      "text/plain": [
       "Dollar Cost Points Redeemed\n",
       "0     381443\n",
       "36      1037\n",
       "38      1001\n",
       "40       993\n",
       "42       983\n",
       "39       943\n",
       "44       923\n",
       "41       913\n",
       "37       887\n",
       "43       877\n",
       "35       852\n",
       "34       844\n",
       "32       817\n",
       "33       800\n",
       "45       779\n",
       "30       772\n",
       "46       753\n",
       "31       722\n",
       "47       675\n",
       "48       638\n",
       "28       598\n",
       "29       596\n",
       "50       595\n",
       "49       568\n",
       "52       482\n",
       "51       435\n",
       "27       421\n",
       "54       402\n",
       "26       379\n",
       "53       377\n",
       "56       365\n",
       "55       343\n",
       "57       274\n",
       "58       265\n",
       "60       260\n",
       "59       219\n",
       "25       209\n",
       "61       175\n",
       "63       175\n",
       "62       155\n",
       "64       152\n",
       "24       110\n",
       "66       106\n",
       "65        90\n",
       "68        85\n",
       "67        68\n",
       "70        38\n",
       "69        28\n",
       "71         2\n",
       "Name: count, dtype: int64"
      ]
     },
     "execution_count": 211,
     "metadata": {},
     "output_type": "execute_result"
    }
   ],
   "source": [
    "# El mismo csao que el anterior. En la columna Dollar Cost Points Redeemed a primera vsta hay muchos 0. Hago una exploración para ver si toda la columna son 0\n",
    "# Como hay más datos, la columna se queda\n",
    "df_flight['Dollar Cost Points Redeemed'].value_counts()"
   ]
  },
  {
   "cell_type": "code",
   "execution_count": 212,
   "metadata": {},
   "outputs": [
    {
     "data": {
      "text/plain": [
       "388887"
      ]
     },
     "execution_count": 212,
     "metadata": {},
     "output_type": "execute_result"
    }
   ],
   "source": [
    "df_flight['Loyalty Number'].duplicated().sum()"
   ]
  },
  {
   "cell_type": "markdown",
   "metadata": {},
   "source": [
    "Analizo el df customer:"
   ]
  },
  {
   "cell_type": "code",
   "execution_count": 213,
   "metadata": {},
   "outputs": [
    {
     "data": {
      "text/plain": [
       "(16737, 16)"
      ]
     },
     "execution_count": 213,
     "metadata": {},
     "output_type": "execute_result"
    }
   ],
   "source": [
    "df_customer.shape"
   ]
  },
  {
   "cell_type": "code",
   "execution_count": 214,
   "metadata": {},
   "outputs": [
    {
     "data": {
      "text/html": [
       "<div>\n",
       "<style scoped>\n",
       "    .dataframe tbody tr th:only-of-type {\n",
       "        vertical-align: middle;\n",
       "    }\n",
       "\n",
       "    .dataframe tbody tr th {\n",
       "        vertical-align: top;\n",
       "    }\n",
       "\n",
       "    .dataframe thead th {\n",
       "        text-align: right;\n",
       "    }\n",
       "</style>\n",
       "<table border=\"1\" class=\"dataframe\">\n",
       "  <thead>\n",
       "    <tr style=\"text-align: right;\">\n",
       "      <th></th>\n",
       "      <th>Loyalty Number</th>\n",
       "      <th>Country</th>\n",
       "      <th>Province</th>\n",
       "      <th>City</th>\n",
       "      <th>Postal Code</th>\n",
       "      <th>Gender</th>\n",
       "      <th>Education</th>\n",
       "      <th>Salary</th>\n",
       "      <th>Marital Status</th>\n",
       "      <th>Loyalty Card</th>\n",
       "      <th>CLV</th>\n",
       "      <th>Enrollment Type</th>\n",
       "      <th>Enrollment Year</th>\n",
       "      <th>Enrollment Month</th>\n",
       "      <th>Cancellation Year</th>\n",
       "      <th>Cancellation Month</th>\n",
       "    </tr>\n",
       "  </thead>\n",
       "  <tbody>\n",
       "    <tr>\n",
       "      <th>0</th>\n",
       "      <td>480934</td>\n",
       "      <td>Canada</td>\n",
       "      <td>Ontario</td>\n",
       "      <td>Toronto</td>\n",
       "      <td>M2Z 4K1</td>\n",
       "      <td>Female</td>\n",
       "      <td>Bachelor</td>\n",
       "      <td>83236.0</td>\n",
       "      <td>Married</td>\n",
       "      <td>Star</td>\n",
       "      <td>3839.14</td>\n",
       "      <td>Standard</td>\n",
       "      <td>2016</td>\n",
       "      <td>2</td>\n",
       "      <td>NaN</td>\n",
       "      <td>NaN</td>\n",
       "    </tr>\n",
       "    <tr>\n",
       "      <th>1</th>\n",
       "      <td>549612</td>\n",
       "      <td>Canada</td>\n",
       "      <td>Alberta</td>\n",
       "      <td>Edmonton</td>\n",
       "      <td>T3G 6Y6</td>\n",
       "      <td>Male</td>\n",
       "      <td>College</td>\n",
       "      <td>NaN</td>\n",
       "      <td>Divorced</td>\n",
       "      <td>Star</td>\n",
       "      <td>3839.61</td>\n",
       "      <td>Standard</td>\n",
       "      <td>2016</td>\n",
       "      <td>3</td>\n",
       "      <td>NaN</td>\n",
       "      <td>NaN</td>\n",
       "    </tr>\n",
       "    <tr>\n",
       "      <th>2</th>\n",
       "      <td>429460</td>\n",
       "      <td>Canada</td>\n",
       "      <td>British Columbia</td>\n",
       "      <td>Vancouver</td>\n",
       "      <td>V6E 3D9</td>\n",
       "      <td>Male</td>\n",
       "      <td>College</td>\n",
       "      <td>NaN</td>\n",
       "      <td>Single</td>\n",
       "      <td>Star</td>\n",
       "      <td>3839.75</td>\n",
       "      <td>Standard</td>\n",
       "      <td>2014</td>\n",
       "      <td>7</td>\n",
       "      <td>2018.0</td>\n",
       "      <td>1.0</td>\n",
       "    </tr>\n",
       "    <tr>\n",
       "      <th>3</th>\n",
       "      <td>608370</td>\n",
       "      <td>Canada</td>\n",
       "      <td>Ontario</td>\n",
       "      <td>Toronto</td>\n",
       "      <td>P1W 1K4</td>\n",
       "      <td>Male</td>\n",
       "      <td>College</td>\n",
       "      <td>NaN</td>\n",
       "      <td>Single</td>\n",
       "      <td>Star</td>\n",
       "      <td>3839.75</td>\n",
       "      <td>Standard</td>\n",
       "      <td>2013</td>\n",
       "      <td>2</td>\n",
       "      <td>NaN</td>\n",
       "      <td>NaN</td>\n",
       "    </tr>\n",
       "    <tr>\n",
       "      <th>4</th>\n",
       "      <td>530508</td>\n",
       "      <td>Canada</td>\n",
       "      <td>Quebec</td>\n",
       "      <td>Hull</td>\n",
       "      <td>J8Y 3Z5</td>\n",
       "      <td>Male</td>\n",
       "      <td>Bachelor</td>\n",
       "      <td>103495.0</td>\n",
       "      <td>Married</td>\n",
       "      <td>Star</td>\n",
       "      <td>3842.79</td>\n",
       "      <td>Standard</td>\n",
       "      <td>2014</td>\n",
       "      <td>10</td>\n",
       "      <td>NaN</td>\n",
       "      <td>NaN</td>\n",
       "    </tr>\n",
       "  </tbody>\n",
       "</table>\n",
       "</div>"
      ],
      "text/plain": [
       "   Loyalty Number Country          Province       City Postal Code  Gender  \\\n",
       "0          480934  Canada           Ontario    Toronto     M2Z 4K1  Female   \n",
       "1          549612  Canada           Alberta   Edmonton     T3G 6Y6    Male   \n",
       "2          429460  Canada  British Columbia  Vancouver     V6E 3D9    Male   \n",
       "3          608370  Canada           Ontario    Toronto     P1W 1K4    Male   \n",
       "4          530508  Canada            Quebec       Hull     J8Y 3Z5    Male   \n",
       "\n",
       "  Education    Salary Marital Status Loyalty Card      CLV Enrollment Type  \\\n",
       "0  Bachelor   83236.0        Married         Star  3839.14        Standard   \n",
       "1   College       NaN       Divorced         Star  3839.61        Standard   \n",
       "2   College       NaN         Single         Star  3839.75        Standard   \n",
       "3   College       NaN         Single         Star  3839.75        Standard   \n",
       "4  Bachelor  103495.0        Married         Star  3842.79        Standard   \n",
       "\n",
       "   Enrollment Year  Enrollment Month  Cancellation Year  Cancellation Month  \n",
       "0             2016                 2                NaN                 NaN  \n",
       "1             2016                 3                NaN                 NaN  \n",
       "2             2014                 7             2018.0                 1.0  \n",
       "3             2013                 2                NaN                 NaN  \n",
       "4             2014                10                NaN                 NaN  "
      ]
     },
     "execution_count": 214,
     "metadata": {},
     "output_type": "execute_result"
    }
   ],
   "source": [
    "df_customer.head(5)"
   ]
  },
  {
   "cell_type": "code",
   "execution_count": 215,
   "metadata": {},
   "outputs": [
    {
     "data": {
      "text/plain": [
       "(16737, 16)"
      ]
     },
     "execution_count": 215,
     "metadata": {},
     "output_type": "execute_result"
    }
   ],
   "source": [
    "df_customer.shape"
   ]
  },
  {
   "cell_type": "code",
   "execution_count": 216,
   "metadata": {},
   "outputs": [
    {
     "name": "stdout",
     "output_type": "stream",
     "text": [
      "<class 'pandas.core.frame.DataFrame'>\n",
      "RangeIndex: 16737 entries, 0 to 16736\n",
      "Data columns (total 16 columns):\n",
      " #   Column              Non-Null Count  Dtype  \n",
      "---  ------              --------------  -----  \n",
      " 0   Loyalty Number      16737 non-null  int64  \n",
      " 1   Country             16737 non-null  object \n",
      " 2   Province            16737 non-null  object \n",
      " 3   City                16737 non-null  object \n",
      " 4   Postal Code         16737 non-null  object \n",
      " 5   Gender              16737 non-null  object \n",
      " 6   Education           16737 non-null  object \n",
      " 7   Salary              12499 non-null  float64\n",
      " 8   Marital Status      16737 non-null  object \n",
      " 9   Loyalty Card        16737 non-null  object \n",
      " 10  CLV                 16737 non-null  float64\n",
      " 11  Enrollment Type     16737 non-null  object \n",
      " 12  Enrollment Year     16737 non-null  int64  \n",
      " 13  Enrollment Month    16737 non-null  int64  \n",
      " 14  Cancellation Year   2067 non-null   float64\n",
      " 15  Cancellation Month  2067 non-null   float64\n",
      "dtypes: float64(4), int64(3), object(9)\n",
      "memory usage: 2.0+ MB\n"
     ]
    }
   ],
   "source": [
    "df_customer.info()"
   ]
  },
  {
   "cell_type": "code",
   "execution_count": 217,
   "metadata": {},
   "outputs": [
    {
     "data": {
      "text/html": [
       "<div>\n",
       "<style scoped>\n",
       "    .dataframe tbody tr th:only-of-type {\n",
       "        vertical-align: middle;\n",
       "    }\n",
       "\n",
       "    .dataframe tbody tr th {\n",
       "        vertical-align: top;\n",
       "    }\n",
       "\n",
       "    .dataframe thead th {\n",
       "        text-align: right;\n",
       "    }\n",
       "</style>\n",
       "<table border=\"1\" class=\"dataframe\">\n",
       "  <thead>\n",
       "    <tr style=\"text-align: right;\">\n",
       "      <th></th>\n",
       "      <th>Loyalty Number</th>\n",
       "      <th>Salary</th>\n",
       "      <th>CLV</th>\n",
       "      <th>Enrollment Year</th>\n",
       "      <th>Enrollment Month</th>\n",
       "      <th>Cancellation Year</th>\n",
       "      <th>Cancellation Month</th>\n",
       "    </tr>\n",
       "  </thead>\n",
       "  <tbody>\n",
       "    <tr>\n",
       "      <th>count</th>\n",
       "      <td>16737.000000</td>\n",
       "      <td>12499.000000</td>\n",
       "      <td>16737.000000</td>\n",
       "      <td>16737.000000</td>\n",
       "      <td>16737.000000</td>\n",
       "      <td>2067.000000</td>\n",
       "      <td>2067.000000</td>\n",
       "    </tr>\n",
       "    <tr>\n",
       "      <th>mean</th>\n",
       "      <td>549735.880445</td>\n",
       "      <td>79245.609409</td>\n",
       "      <td>7988.896536</td>\n",
       "      <td>2015.253211</td>\n",
       "      <td>6.669116</td>\n",
       "      <td>2016.503145</td>\n",
       "      <td>6.962748</td>\n",
       "    </tr>\n",
       "    <tr>\n",
       "      <th>std</th>\n",
       "      <td>258912.132453</td>\n",
       "      <td>35008.297285</td>\n",
       "      <td>6860.982280</td>\n",
       "      <td>1.979111</td>\n",
       "      <td>3.398958</td>\n",
       "      <td>1.380743</td>\n",
       "      <td>3.455297</td>\n",
       "    </tr>\n",
       "    <tr>\n",
       "      <th>min</th>\n",
       "      <td>100018.000000</td>\n",
       "      <td>-58486.000000</td>\n",
       "      <td>1898.010000</td>\n",
       "      <td>2012.000000</td>\n",
       "      <td>1.000000</td>\n",
       "      <td>2013.000000</td>\n",
       "      <td>1.000000</td>\n",
       "    </tr>\n",
       "    <tr>\n",
       "      <th>25%</th>\n",
       "      <td>326603.000000</td>\n",
       "      <td>59246.500000</td>\n",
       "      <td>3980.840000</td>\n",
       "      <td>2014.000000</td>\n",
       "      <td>4.000000</td>\n",
       "      <td>2016.000000</td>\n",
       "      <td>4.000000</td>\n",
       "    </tr>\n",
       "    <tr>\n",
       "      <th>50%</th>\n",
       "      <td>550434.000000</td>\n",
       "      <td>73455.000000</td>\n",
       "      <td>5780.180000</td>\n",
       "      <td>2015.000000</td>\n",
       "      <td>7.000000</td>\n",
       "      <td>2017.000000</td>\n",
       "      <td>7.000000</td>\n",
       "    </tr>\n",
       "    <tr>\n",
       "      <th>75%</th>\n",
       "      <td>772019.000000</td>\n",
       "      <td>88517.500000</td>\n",
       "      <td>8940.580000</td>\n",
       "      <td>2017.000000</td>\n",
       "      <td>10.000000</td>\n",
       "      <td>2018.000000</td>\n",
       "      <td>10.000000</td>\n",
       "    </tr>\n",
       "    <tr>\n",
       "      <th>max</th>\n",
       "      <td>999986.000000</td>\n",
       "      <td>407228.000000</td>\n",
       "      <td>83325.380000</td>\n",
       "      <td>2018.000000</td>\n",
       "      <td>12.000000</td>\n",
       "      <td>2018.000000</td>\n",
       "      <td>12.000000</td>\n",
       "    </tr>\n",
       "  </tbody>\n",
       "</table>\n",
       "</div>"
      ],
      "text/plain": [
       "       Loyalty Number         Salary           CLV  Enrollment Year  \\\n",
       "count    16737.000000   12499.000000  16737.000000     16737.000000   \n",
       "mean    549735.880445   79245.609409   7988.896536      2015.253211   \n",
       "std     258912.132453   35008.297285   6860.982280         1.979111   \n",
       "min     100018.000000  -58486.000000   1898.010000      2012.000000   \n",
       "25%     326603.000000   59246.500000   3980.840000      2014.000000   \n",
       "50%     550434.000000   73455.000000   5780.180000      2015.000000   \n",
       "75%     772019.000000   88517.500000   8940.580000      2017.000000   \n",
       "max     999986.000000  407228.000000  83325.380000      2018.000000   \n",
       "\n",
       "       Enrollment Month  Cancellation Year  Cancellation Month  \n",
       "count      16737.000000        2067.000000         2067.000000  \n",
       "mean           6.669116        2016.503145            6.962748  \n",
       "std            3.398958           1.380743            3.455297  \n",
       "min            1.000000        2013.000000            1.000000  \n",
       "25%            4.000000        2016.000000            4.000000  \n",
       "50%            7.000000        2017.000000            7.000000  \n",
       "75%           10.000000        2018.000000           10.000000  \n",
       "max           12.000000        2018.000000           12.000000  "
      ]
     },
     "execution_count": 217,
     "metadata": {},
     "output_type": "execute_result"
    }
   ],
   "source": [
    "df_customer.describe()"
   ]
  },
  {
   "cell_type": "code",
   "execution_count": 218,
   "metadata": {},
   "outputs": [
    {
     "data": {
      "text/plain": [
       "Index(['Loyalty Number', 'Country', 'Province', 'City', 'Postal Code',\n",
       "       'Gender', 'Education', 'Salary', 'Marital Status', 'Loyalty Card',\n",
       "       'CLV', 'Enrollment Type', 'Enrollment Year', 'Enrollment Month',\n",
       "       'Cancellation Year', 'Cancellation Month'],\n",
       "      dtype='object')"
      ]
     },
     "execution_count": 218,
     "metadata": {},
     "output_type": "execute_result"
    }
   ],
   "source": [
    "df_customer.columns\n",
    "# Vemos que la columna común con df flight es 'Loyalty Number'"
   ]
  },
  {
   "cell_type": "code",
   "execution_count": 219,
   "metadata": {},
   "outputs": [
    {
     "data": {
      "text/plain": [
       "Loyalty Number         0.000000\n",
       "Country                0.000000\n",
       "Province               0.000000\n",
       "City                   0.000000\n",
       "Postal Code            0.000000\n",
       "Gender                 0.000000\n",
       "Education              0.000000\n",
       "Salary                25.321145\n",
       "Marital Status         0.000000\n",
       "Loyalty Card           0.000000\n",
       "CLV                    0.000000\n",
       "Enrollment Type        0.000000\n",
       "Enrollment Year        0.000000\n",
       "Enrollment Month       0.000000\n",
       "Cancellation Year     87.650117\n",
       "Cancellation Month    87.650117\n",
       "dtype: float64"
      ]
     },
     "execution_count": 219,
     "metadata": {},
     "output_type": "execute_result"
    }
   ],
   "source": [
    "#  Identificamos nulos en: Salary, Cancellation Year, Cancellation Month'\n",
    "\n",
    "porcentaje_nulos = df_customer.isnull().sum() / len(df_customer) * 100\n",
    "porcentaje_nulos"
   ]
  },
  {
   "cell_type": "code",
   "execution_count": 220,
   "metadata": {},
   "outputs": [],
   "source": [
    "#Con más de un 87% de nulos decido eliminar las columnas Cancellation Year y Cancellation Month\n",
    "\n",
    "df_customer.drop(['Cancellation Year', 'Cancellation Month'], inplace=True, axis=1)"
   ]
  },
  {
   "cell_type": "code",
   "execution_count": 221,
   "metadata": {},
   "outputs": [
    {
     "data": {
      "text/plain": [
       "(16737, 14)"
      ]
     },
     "execution_count": 221,
     "metadata": {},
     "output_type": "execute_result"
    }
   ],
   "source": [
    "df_customer.shape"
   ]
  },
  {
   "cell_type": "code",
   "execution_count": 222,
   "metadata": {},
   "outputs": [
    {
     "data": {
      "text/plain": [
       "0"
      ]
     },
     "execution_count": 222,
     "metadata": {},
     "output_type": "execute_result"
    }
   ],
   "source": [
    "df_customer['Loyalty Number'].duplicated().sum()\n",
    "\n",
    "# confirmamos que Loyalty number es un id único\n"
   ]
  },
  {
   "cell_type": "code",
   "execution_count": 223,
   "metadata": {},
   "outputs": [
    {
     "data": {
      "text/plain": [
       "Loyalty Card\n",
       "Star      7637\n",
       "Nova      5671\n",
       "Aurora    3429\n",
       "Name: count, dtype: int64"
      ]
     },
     "execution_count": 223,
     "metadata": {},
     "output_type": "execute_result"
    }
   ],
   "source": [
    "df_customer['Loyalty Card'].value_counts()\n",
    "#vemos que hay 3 tipos de Loyalty card: Star, Nova y Aurora"
   ]
  },
  {
   "cell_type": "code",
   "execution_count": 224,
   "metadata": {},
   "outputs": [
    {
     "data": {
      "text/plain": [
       "array(['Canada'], dtype=object)"
      ]
     },
     "execution_count": 224,
     "metadata": {},
     "output_type": "execute_result"
    }
   ],
   "source": [
    "df_customer['Country'].unique()\n",
    "#Vemos que todos los clientes son de Canadá"
   ]
  },
  {
   "cell_type": "code",
   "execution_count": 225,
   "metadata": {},
   "outputs": [
    {
     "name": "stdout",
     "output_type": "stream",
     "text": [
      "Los valores únicos de Loyalty Number son: \n",
      "[480934 549612 429460 ... 776187 906428 652627]\n",
      "----\n",
      "Los valores únicos de Country son: \n",
      "['Canada']\n",
      "----\n",
      "Los valores únicos de Province son: \n",
      "['Ontario' 'Alberta' 'British Columbia' 'Quebec' 'Yukon' 'New Brunswick'\n",
      " 'Manitoba' 'Nova Scotia' 'Saskatchewan' 'Newfoundland'\n",
      " 'Prince Edward Island']\n",
      "----\n",
      "Los valores únicos de City son: \n",
      "['Toronto' 'Edmonton' 'Vancouver' 'Hull' 'Whitehorse' 'Trenton' 'Montreal'\n",
      " 'Dawson Creek' 'Quebec City' 'Fredericton' 'Ottawa' 'Tremblant' 'Calgary'\n",
      " 'Thunder Bay' 'Whistler' 'Peace River' 'Winnipeg' 'Sudbury'\n",
      " 'West Vancouver' 'Halifax' 'London' 'Regina' 'Kelowna' \"St. John's\"\n",
      " 'Victoria' 'Kingston' 'Banff' 'Moncton' 'Charlottetown']\n",
      "----\n",
      "Los valores únicos de Postal Code son: \n",
      "['M2Z 4K1' 'T3G 6Y6' 'V6E 3D9' 'P1W 1K4' 'J8Y 3Z5' 'Y2K 6R0' 'P5S 6R4'\n",
      " 'K8V 4B2' 'H2Y 2W2' 'M8Y 4K8' 'U5I 4F1' 'G1B 3L5' 'H4G 3T4' 'M2M 7K8'\n",
      " 'M2M 6J7' 'E3B 2H2' 'M1R 4K3' 'T9G 1W3' 'H2Y 4R4' 'V5R 1W3' 'P1L 8X8'\n",
      " 'K1F 2R2' 'H5Y 2S9' 'V1E 4R6' 'H2T 2J6' 'T3E 2V9' 'H2T 9K8' 'K8T 5M5'\n",
      " 'V6T 1Y8' 'P2T 6G3' 'T9O 2W2' 'V6E 3Z3' 'R6Y 4T5' 'M5V 1G5' 'V6V 8Z3'\n",
      " 'B3J 9S2' 'M5B 3E4' 'R2C 0M5' 'S6J 3G0' 'M2P 4F6' 'P1J 8T7' 'V09 2E9'\n",
      " 'A1C 6H9' 'V10 6T5' 'B3C 2M8' 'M9K 2P4' 'T4V 1D4' 'R3R 3T4' 'S1J 3C5'\n",
      " 'E1A 2A7' 'K1G 4Z0' 'H3T 8L4' 'C1A 6E8' 'H3J 5I6' 'M3R 4K8']\n",
      "----\n",
      "Los valores únicos de Gender son: \n",
      "['Female' 'Male']\n",
      "----\n",
      "Los valores únicos de Education son: \n",
      "['Bachelor' 'College' 'Master' 'High School or Below' 'Doctor']\n",
      "----\n",
      "Los valores únicos de Salary son: \n",
      "[ 83236.     nan 103495. ...  76178.  91970. -57297.]\n",
      "----\n",
      "Los valores únicos de Marital Status son: \n",
      "['Married' 'Divorced' 'Single']\n",
      "----\n",
      "Los valores únicos de Loyalty Card son: \n",
      "['Star' 'Aurora' 'Nova']\n",
      "----\n",
      "Los valores únicos de CLV son: \n",
      "[ 3839.14  3839.61  3839.75 ... 44771.3  50568.26 61134.68]\n",
      "----\n",
      "Los valores únicos de Enrollment Type son: \n",
      "['Standard' '2018 Promotion']\n",
      "----\n",
      "Los valores únicos de Enrollment Year son: \n",
      "[2016 2014 2013 2012 2015 2018 2017]\n",
      "----\n",
      "Los valores únicos de Enrollment Month son: \n",
      "[ 2  3  7 10  5  6 12  1 11  8  4  9]\n",
      "----\n"
     ]
    }
   ],
   "source": [
    "#Miro los valores únicos de las columnas\n",
    "\n",
    "for columna in df_customer:\n",
    "    print (f\"Los valores únicos de {columna} son: \")\n",
    "    print (df_customer[columna].unique())\n",
    "    print (\"----\")"
   ]
  },
  {
   "cell_type": "code",
   "execution_count": 226,
   "metadata": {},
   "outputs": [
    {
     "name": "stdout",
     "output_type": "stream",
     "text": [
      "Los valores duplicados de Loyalty Number son: \n",
      "0\n",
      "----\n",
      "Los valores duplicados de Country son: \n",
      "16736\n",
      "----\n",
      "Los valores duplicados de Province son: \n",
      "16726\n",
      "----\n",
      "Los valores duplicados de City son: \n",
      "16708\n",
      "----\n",
      "Los valores duplicados de Postal Code son: \n",
      "16682\n",
      "----\n",
      "Los valores duplicados de Gender son: \n",
      "16735\n",
      "----\n",
      "Los valores duplicados de Education son: \n",
      "16732\n",
      "----\n",
      "Los valores duplicados de Salary son: \n",
      "10846\n",
      "----\n",
      "Los valores duplicados de Marital Status son: \n",
      "16734\n",
      "----\n",
      "Los valores duplicados de Loyalty Card son: \n",
      "16734\n",
      "----\n",
      "Los valores duplicados de CLV son: \n",
      "8753\n",
      "----\n",
      "Los valores duplicados de Enrollment Type son: \n",
      "16735\n",
      "----\n",
      "Los valores duplicados de Enrollment Year son: \n",
      "16730\n",
      "----\n",
      "Los valores duplicados de Enrollment Month son: \n",
      "16725\n",
      "----\n"
     ]
    }
   ],
   "source": [
    "\n",
    "for columna in df_customer:\n",
    "    print (f\"Los valores duplicados de {columna} son: \")\n",
    "    print (df_customer[columna].duplicated().sum())\n",
    "    print (\"----\")"
   ]
  },
  {
   "cell_type": "markdown",
   "metadata": {},
   "source": [
    "______\n",
    "**2- Limpieza de Datos:**\n",
    "\n",
    "- Elimina o trata los valores nulos, si los hay, en las columnas clave para asegurar que los datos estén completos.\n",
    "\n",
    "- Verifica la consistencia y corrección de los datos para asegurarte de que los datos se presenten de forma coherente.\n",
    "\n",
    "- Realiza cualquier ajuste o conversión necesaria en las columnas (por ejemplo, cambiar tipos de datos) para garantizar la adecuación de los datos para el análisis estadístico.\n"
   ]
  },
  {
   "cell_type": "code",
   "execution_count": 227,
   "metadata": {},
   "outputs": [
    {
     "data": {
      "text/plain": [
       "Index(['Loyalty Number', 'Country', 'Province', 'City', 'Postal Code',\n",
       "       'Gender', 'Education', 'Salary', 'Marital Status', 'Loyalty Card',\n",
       "       'CLV', 'Enrollment Type', 'Enrollment Year', 'Enrollment Month'],\n",
       "      dtype='object')"
      ]
     },
     "execution_count": 227,
     "metadata": {},
     "output_type": "execute_result"
    }
   ],
   "source": [
    "df_customer.columns"
   ]
  },
  {
   "cell_type": "code",
   "execution_count": 228,
   "metadata": {},
   "outputs": [
    {
     "data": {
      "text/plain": [
       "0         83236.0\n",
       "1             NaN\n",
       "2             NaN\n",
       "3             NaN\n",
       "4        103495.0\n",
       "           ...   \n",
       "16732         NaN\n",
       "16733     89210.0\n",
       "16734         NaN\n",
       "16735    -57297.0\n",
       "16736     75049.0\n",
       "Name: Salary, Length: 16737, dtype: float64"
      ]
     },
     "execution_count": 228,
     "metadata": {},
     "output_type": "execute_result"
    }
   ],
   "source": [
    "df_customer['Salary']"
   ]
  },
  {
   "cell_type": "markdown",
   "metadata": {},
   "source": [
    "Exploro más a fondo la columna salary del df customers"
   ]
  },
  {
   "cell_type": "code",
   "execution_count": 229,
   "metadata": {},
   "outputs": [],
   "source": [
    "# Filtrp el conjunto de datos para comparar los salarios con educación\n",
    "df_salarios_educativos = df_customer[['Education', 'Salary']]"
   ]
  },
  {
   "cell_type": "code",
   "execution_count": 230,
   "metadata": {},
   "outputs": [
    {
     "data": {
      "text/html": [
       "<div>\n",
       "<style scoped>\n",
       "    .dataframe tbody tr th:only-of-type {\n",
       "        vertical-align: middle;\n",
       "    }\n",
       "\n",
       "    .dataframe tbody tr th {\n",
       "        vertical-align: top;\n",
       "    }\n",
       "\n",
       "    .dataframe thead th {\n",
       "        text-align: right;\n",
       "    }\n",
       "</style>\n",
       "<table border=\"1\" class=\"dataframe\">\n",
       "  <thead>\n",
       "    <tr style=\"text-align: right;\">\n",
       "      <th></th>\n",
       "      <th>Education</th>\n",
       "      <th>Salary</th>\n",
       "    </tr>\n",
       "  </thead>\n",
       "  <tbody>\n",
       "    <tr>\n",
       "      <th>0</th>\n",
       "      <td>Bachelor</td>\n",
       "      <td>72451.061575</td>\n",
       "    </tr>\n",
       "    <tr>\n",
       "      <th>1</th>\n",
       "      <td>College</td>\n",
       "      <td>NaN</td>\n",
       "    </tr>\n",
       "    <tr>\n",
       "      <th>2</th>\n",
       "      <td>Doctor</td>\n",
       "      <td>178608.897820</td>\n",
       "    </tr>\n",
       "    <tr>\n",
       "      <th>3</th>\n",
       "      <td>High School or Below</td>\n",
       "      <td>61071.718670</td>\n",
       "    </tr>\n",
       "    <tr>\n",
       "      <th>4</th>\n",
       "      <td>Master</td>\n",
       "      <td>103757.848425</td>\n",
       "    </tr>\n",
       "  </tbody>\n",
       "</table>\n",
       "</div>"
      ],
      "text/plain": [
       "              Education         Salary\n",
       "0              Bachelor   72451.061575\n",
       "1               College            NaN\n",
       "2                Doctor  178608.897820\n",
       "3  High School or Below   61071.718670\n",
       "4                Master  103757.848425"
      ]
     },
     "execution_count": 230,
     "metadata": {},
     "output_type": "execute_result"
    }
   ],
   "source": [
    "# Agrupar por nivel educativo y calcular el salario promedio para cada grupo\n",
    "salarios_promedio = df_salarios_educativos.groupby('Education')['Salary'].mean().reset_index()\n",
    "salarios_promedio"
   ]
  },
  {
   "cell_type": "markdown",
   "metadata": {},
   "source": [
    "Vemos que en la categoría College no hay datos de Salario, sale nulo"
   ]
  },
  {
   "cell_type": "markdown",
   "metadata": {},
   "source": [
    "_________"
   ]
  },
  {
   "cell_type": "code",
   "execution_count": 231,
   "metadata": {},
   "outputs": [
    {
     "data": {
      "text/plain": [
       "0         83236.0\n",
       "1             NaN\n",
       "2             NaN\n",
       "3             NaN\n",
       "4        103495.0\n",
       "           ...   \n",
       "16732         NaN\n",
       "16733     89210.0\n",
       "16734         NaN\n",
       "16735    -57297.0\n",
       "16736     75049.0\n",
       "Name: Salary, Length: 16737, dtype: float64"
      ]
     },
     "execution_count": 231,
     "metadata": {},
     "output_type": "execute_result"
    }
   ],
   "source": [
    "df_customer['Salary']\n",
    "# veo que hay valores negativos. Exploro más a fondo"
   ]
  },
  {
   "cell_type": "code",
   "execution_count": 232,
   "metadata": {},
   "outputs": [
    {
     "name": "stdout",
     "output_type": "stream",
     "text": [
      "1082    -49830.0\n",
      "1894    -12497.0\n",
      "2471    -46683.0\n",
      "3575    -45962.0\n",
      "3932    -19325.0\n",
      "4712    -43234.0\n",
      "6560    -10605.0\n",
      "6570    -17534.0\n",
      "7373    -58486.0\n",
      "8576    -31911.0\n",
      "8767    -49001.0\n",
      "10232   -34079.0\n",
      "11635    -9081.0\n",
      "12596   -46470.0\n",
      "13564   -26322.0\n",
      "14327   -47310.0\n",
      "14355   -39503.0\n",
      "15416   -19332.0\n",
      "16431   -46303.0\n",
      "16735   -57297.0\n",
      "Name: Salary, dtype: float64\n"
     ]
    }
   ],
   "source": [
    "valores_negativos = df_customer[df_customer['Salary'] < 0]['Salary']\n",
    "print(valores_negativos)"
   ]
  },
  {
   "cell_type": "code",
   "execution_count": 233,
   "metadata": {},
   "outputs": [],
   "source": [
    "# Veo que hay algunos valores que están en negativo. \n",
    "#Por el tipo de dato, asumo que es un error, y que tendrían que estar en números absolutos.\n",
    "# Hago la conversión\n",
    "df_customer['Salary'] = df_customer['Salary'].abs()"
   ]
  },
  {
   "cell_type": "code",
   "execution_count": 234,
   "metadata": {},
   "outputs": [
    {
     "data": {
      "text/plain": [
       "25.321144769074504"
      ]
     },
     "execution_count": 234,
     "metadata": {},
     "output_type": "execute_result"
    }
   ],
   "source": [
    "#Gestiono los nulos de salary\n",
    "\n",
    "df_customer['Salary'].isnull().sum() / df_customer.shape[0] *100"
   ]
  },
  {
   "cell_type": "code",
   "execution_count": 235,
   "metadata": {},
   "outputs": [
    {
     "data": {
      "text/plain": [
       "mean    79359.340907\n",
       "50%     73455.000000\n",
       "Name: Salary, dtype: float64"
      ]
     },
     "execution_count": 235,
     "metadata": {},
     "output_type": "execute_result"
    }
   ],
   "source": [
    "df_customer['Salary'].describe()[[\"mean\", \"50%\"]]\n",
    "\n",
    "# La media es más sensible a los valores extremos. En este caso, si la media es de 79359 y la mediana es de 73455\n",
    "# significa que hay personas que tienen un sueldo bastante más alto o bastante mñas bajo. \n",
    "\n",
    "#La mediana es un dato más robusto, conserva más la distribución de los datos"
   ]
  },
  {
   "cell_type": "code",
   "execution_count": 236,
   "metadata": {},
   "outputs": [],
   "source": [
    "columna_a_imputar = 'Salary'\n",
    "\n",
    "# Calcula la mediana de la columna\n",
    "mediana = df_customer['Salary'].median()\n",
    "\n",
    "# Imputa los valores faltantes con la mediana\n",
    "df_customer['Salary'].fillna(mediana, inplace=True)"
   ]
  },
  {
   "cell_type": "code",
   "execution_count": 237,
   "metadata": {},
   "outputs": [
    {
     "data": {
      "text/plain": [
       "0.0"
      ]
     },
     "execution_count": 237,
     "metadata": {},
     "output_type": "execute_result"
    }
   ],
   "source": [
    "#compruebo que no tengo nulos\n",
    "df_customer['Salary'].isnull().sum() / df_customer.shape[0] *100"
   ]
  },
  {
   "cell_type": "markdown",
   "metadata": {},
   "source": [
    "CLV -  \"Customer Lifetime Value\"\n",
    "epresenta la estimación del valor financiero total que un cliente aporta a una empresa durante toda su relación.\n",
    "El cálculo del CLV implica prever cuánto gastará un cliente en productos o servicios de una empresa durante su tiempo como cliente."
   ]
  },
  {
   "cell_type": "code",
   "execution_count": 238,
   "metadata": {},
   "outputs": [
    {
     "data": {
      "text/plain": [
       "0         3839.14\n",
       "1         3839.61\n",
       "2         3839.75\n",
       "3         3839.75\n",
       "4         3842.79\n",
       "           ...   \n",
       "16732    61850.19\n",
       "16733    67907.27\n",
       "16734    74228.52\n",
       "16735    10018.66\n",
       "16736    83325.38\n",
       "Name: CLV, Length: 16737, dtype: float64"
      ]
     },
     "execution_count": 238,
     "metadata": {},
     "output_type": "execute_result"
    }
   ],
   "source": [
    "df_customer['CLV']"
   ]
  },
  {
   "cell_type": "code",
   "execution_count": 239,
   "metadata": {},
   "outputs": [
    {
     "name": "stdout",
     "output_type": "stream",
     "text": [
      "La columna Loyalty Number no tiene valores negativos.\n",
      "\n",
      "La columna Salary no tiene valores negativos.\n",
      "\n",
      "La columna CLV no tiene valores negativos.\n",
      "\n",
      "La columna Enrollment Year no tiene valores negativos.\n",
      "\n",
      "La columna Enrollment Month no tiene valores negativos.\n",
      "\n"
     ]
    }
   ],
   "source": [
    "#compruebo si hay alguna otra columa con negativos\n",
    "\n",
    "columnas_numericas = df_customer.select_dtypes(include=['int', 'float']).columns\n",
    "\n",
    "for columna in columnas_numericas:\n",
    "    negativos = df_customer[df_customer[columna] < 0][columna]\n",
    "    if not negativos.empty:\n",
    "        print(f\"La columna {columna} tiene valores negativos:\")\n",
    "        print(negativos)\n",
    "        print(\"\\n\")\n",
    "    else:\n",
    "        print(f\"La columna {columna} no tiene valores negativos.\\n\")"
   ]
  },
  {
   "cell_type": "markdown",
   "metadata": {},
   "source": [
    "Uno los dos dataframes por la columna  'Loyalty Number'"
   ]
  },
  {
   "cell_type": "code",
   "execution_count": 240,
   "metadata": {},
   "outputs": [
    {
     "data": {
      "text/plain": [
       "(16737, 14)"
      ]
     },
     "execution_count": 240,
     "metadata": {},
     "output_type": "execute_result"
    }
   ],
   "source": [
    "df_customer.shape"
   ]
  },
  {
   "cell_type": "code",
   "execution_count": 241,
   "metadata": {},
   "outputs": [
    {
     "data": {
      "text/plain": [
       "0        480934\n",
       "1        549612\n",
       "2        429460\n",
       "3        608370\n",
       "4        530508\n",
       "          ...  \n",
       "16732    823768\n",
       "16733    680886\n",
       "16734    776187\n",
       "16735    906428\n",
       "16736    652627\n",
       "Name: Loyalty Number, Length: 16737, dtype: int64"
      ]
     },
     "execution_count": 241,
     "metadata": {},
     "output_type": "execute_result"
    }
   ],
   "source": [
    "df_customer['Loyalty Number']"
   ]
  },
  {
   "cell_type": "code",
   "execution_count": 242,
   "metadata": {},
   "outputs": [
    {
     "data": {
      "text/plain": [
       "0         100018\n",
       "1         100102\n",
       "2         100140\n",
       "3         100214\n",
       "4         100272\n",
       "           ...  \n",
       "405619    999902\n",
       "405620    999911\n",
       "405621    999940\n",
       "405622    999982\n",
       "405623    999986\n",
       "Name: Loyalty Number, Length: 405624, dtype: int64"
      ]
     },
     "execution_count": 242,
     "metadata": {},
     "output_type": "execute_result"
    }
   ],
   "source": [
    "df_flight['Loyalty Number']"
   ]
  },
  {
   "cell_type": "code",
   "execution_count": 243,
   "metadata": {},
   "outputs": [
    {
     "data": {
      "text/plain": [
       "(405624, 23)"
      ]
     },
     "execution_count": 243,
     "metadata": {},
     "output_type": "execute_result"
    }
   ],
   "source": [
    "df_datos = pd.merge(df_customer, df_flight, on='Loyalty Number', how='inner')\n",
    "df_datos.shape\n",
    "\n",
    "#La unión interna (inner) conserva solo las filas que tienen coincidencias en ambas tablas.\n",
    "#Por lo tanto se conservan los datos de ambas columnas tomando como refencia Loyaltynumber"
   ]
  },
  {
   "cell_type": "code",
   "execution_count": 244,
   "metadata": {},
   "outputs": [
    {
     "name": "stdout",
     "output_type": "stream",
     "text": [
      "<class 'pandas.core.frame.DataFrame'>\n",
      "RangeIndex: 405624 entries, 0 to 405623\n",
      "Data columns (total 23 columns):\n",
      " #   Column                       Non-Null Count   Dtype  \n",
      "---  ------                       --------------   -----  \n",
      " 0   Loyalty Number               405624 non-null  int64  \n",
      " 1   Country                      405624 non-null  object \n",
      " 2   Province                     405624 non-null  object \n",
      " 3   City                         405624 non-null  object \n",
      " 4   Postal Code                  405624 non-null  object \n",
      " 5   Gender                       405624 non-null  object \n",
      " 6   Education                    405624 non-null  object \n",
      " 7   Salary                       405624 non-null  float64\n",
      " 8   Marital Status               405624 non-null  object \n",
      " 9   Loyalty Card                 405624 non-null  object \n",
      " 10  CLV                          405624 non-null  float64\n",
      " 11  Enrollment Type              405624 non-null  object \n",
      " 12  Enrollment Year              405624 non-null  int64  \n",
      " 13  Enrollment Month             405624 non-null  int64  \n",
      " 14  Year                         405624 non-null  int64  \n",
      " 15  Month                        405624 non-null  int64  \n",
      " 16  Flights Booked               405624 non-null  int64  \n",
      " 17  Flights with Companions      405624 non-null  int64  \n",
      " 18  Total Flights                405624 non-null  int64  \n",
      " 19  Distance                     405624 non-null  int64  \n",
      " 20  Points Accumulated           405624 non-null  float64\n",
      " 21  Points Redeemed              405624 non-null  int64  \n",
      " 22  Dollar Cost Points Redeemed  405624 non-null  int64  \n",
      "dtypes: float64(3), int64(11), object(9)\n",
      "memory usage: 71.2+ MB\n"
     ]
    }
   ],
   "source": [
    "df_datos.info() "
   ]
  },
  {
   "cell_type": "markdown",
   "metadata": {},
   "source": [
    "Hago los siguientes cambios al DF:\n",
    "\n",
    "- Títulos columnas:\n",
    "    - Convertierto nombres de columnas a minúsculas para el data frame datos\n",
    "    - Sustituyo los espacios por _\n",
    "\n",
    "- Texto del DF: lo paso a minúscula"
   ]
  },
  {
   "cell_type": "code",
   "execution_count": 245,
   "metadata": {},
   "outputs": [],
   "source": [
    "for columna in df_datos:\n",
    "        \n",
    "        #reemplazamos los espacios por _\n",
    "        try:\n",
    "            df_datos.columns =(df_datos.columns.str.replace(' ', '_'))\n",
    "        \n",
    "        except:\n",
    "            pass\n",
    "        #convierto los títulos de las columnas a minuscula:\n",
    "        try:\n",
    "            df_datos.columns = df_datos.columns.str.lower()\n",
    "        except:\n",
    "            pass\n",
    "\n",
    "           #convierto el texto de todas las filas a minuscula:\n",
    "        \n",
    "        try:\n",
    "             df_datos[columna]= df_datos[columna].str.lower()\n",
    "        except:\n",
    "            pass\n"
   ]
  },
  {
   "cell_type": "code",
   "execution_count": 246,
   "metadata": {},
   "outputs": [
    {
     "data": {
      "text/html": [
       "<div>\n",
       "<style scoped>\n",
       "    .dataframe tbody tr th:only-of-type {\n",
       "        vertical-align: middle;\n",
       "    }\n",
       "\n",
       "    .dataframe tbody tr th {\n",
       "        vertical-align: top;\n",
       "    }\n",
       "\n",
       "    .dataframe thead th {\n",
       "        text-align: right;\n",
       "    }\n",
       "</style>\n",
       "<table border=\"1\" class=\"dataframe\">\n",
       "  <thead>\n",
       "    <tr style=\"text-align: right;\">\n",
       "      <th></th>\n",
       "      <th>loyalty_number</th>\n",
       "      <th>country</th>\n",
       "      <th>province</th>\n",
       "      <th>city</th>\n",
       "      <th>postal_code</th>\n",
       "      <th>gender</th>\n",
       "      <th>education</th>\n",
       "      <th>salary</th>\n",
       "      <th>marital_status</th>\n",
       "      <th>loyalty_card</th>\n",
       "      <th>clv</th>\n",
       "      <th>enrollment_type</th>\n",
       "      <th>enrollment_year</th>\n",
       "      <th>enrollment_month</th>\n",
       "      <th>year</th>\n",
       "      <th>month</th>\n",
       "      <th>flights_booked</th>\n",
       "      <th>flights_with_companions</th>\n",
       "      <th>total_flights</th>\n",
       "      <th>distance</th>\n",
       "      <th>points_accumulated</th>\n",
       "      <th>points_redeemed</th>\n",
       "      <th>dollar_cost_points_redeemed</th>\n",
       "    </tr>\n",
       "  </thead>\n",
       "  <tbody>\n",
       "    <tr>\n",
       "      <th>0</th>\n",
       "      <td>480934</td>\n",
       "      <td>Canada</td>\n",
       "      <td>Ontario</td>\n",
       "      <td>Toronto</td>\n",
       "      <td>M2Z 4K1</td>\n",
       "      <td>Female</td>\n",
       "      <td>Bachelor</td>\n",
       "      <td>83236.0</td>\n",
       "      <td>Married</td>\n",
       "      <td>Star</td>\n",
       "      <td>3839.14</td>\n",
       "      <td>Standard</td>\n",
       "      <td>2016</td>\n",
       "      <td>2</td>\n",
       "      <td>2017</td>\n",
       "      <td>1</td>\n",
       "      <td>0</td>\n",
       "      <td>0</td>\n",
       "      <td>0</td>\n",
       "      <td>0</td>\n",
       "      <td>0.0</td>\n",
       "      <td>0</td>\n",
       "      <td>0</td>\n",
       "    </tr>\n",
       "  </tbody>\n",
       "</table>\n",
       "</div>"
      ],
      "text/plain": [
       "   loyalty_number country province     city postal_code  gender education  \\\n",
       "0          480934  Canada  Ontario  Toronto     M2Z 4K1  Female  Bachelor   \n",
       "\n",
       "    salary marital_status loyalty_card      clv enrollment_type  \\\n",
       "0  83236.0        Married         Star  3839.14        Standard   \n",
       "\n",
       "   enrollment_year  enrollment_month  year  month  flights_booked  \\\n",
       "0             2016                 2  2017      1               0   \n",
       "\n",
       "   flights_with_companions  total_flights  distance  points_accumulated  \\\n",
       "0                        0              0         0                 0.0   \n",
       "\n",
       "   points_redeemed  dollar_cost_points_redeemed  \n",
       "0                0                            0  "
      ]
     },
     "execution_count": 246,
     "metadata": {},
     "output_type": "execute_result"
    }
   ],
   "source": [
    "df_datos.head(1)"
   ]
  },
  {
   "cell_type": "code",
   "execution_count": 247,
   "metadata": {},
   "outputs": [
    {
     "data": {
      "text/plain": [
       "Index(['loyalty_number', 'country', 'province', 'city', 'postal_code',\n",
       "       'gender', 'education', 'salary', 'marital_status', 'loyalty_card',\n",
       "       'clv', 'enrollment_type', 'enrollment_year', 'enrollment_month', 'year',\n",
       "       'month', 'flights_booked', 'flights_with_companions', 'total_flights',\n",
       "       'distance', 'points_accumulated', 'points_redeemed',\n",
       "       'dollar_cost_points_redeemed'],\n",
       "      dtype='object')"
      ]
     },
     "execution_count": 247,
     "metadata": {},
     "output_type": "execute_result"
    }
   ],
   "source": [
    "df_datos.columns"
   ]
  },
  {
   "cell_type": "code",
   "execution_count": 248,
   "metadata": {},
   "outputs": [
    {
     "data": {
      "text/html": [
       "<div>\n",
       "<style scoped>\n",
       "    .dataframe tbody tr th:only-of-type {\n",
       "        vertical-align: middle;\n",
       "    }\n",
       "\n",
       "    .dataframe tbody tr th {\n",
       "        vertical-align: top;\n",
       "    }\n",
       "\n",
       "    .dataframe thead th {\n",
       "        text-align: right;\n",
       "    }\n",
       "</style>\n",
       "<table border=\"1\" class=\"dataframe\">\n",
       "  <thead>\n",
       "    <tr style=\"text-align: right;\">\n",
       "      <th></th>\n",
       "      <th>loyalty_number</th>\n",
       "      <th>country</th>\n",
       "      <th>province</th>\n",
       "      <th>city</th>\n",
       "      <th>postal_code</th>\n",
       "      <th>gender</th>\n",
       "      <th>education</th>\n",
       "      <th>salary</th>\n",
       "      <th>marital_status</th>\n",
       "      <th>loyalty_card</th>\n",
       "      <th>clv</th>\n",
       "      <th>enrollment_type</th>\n",
       "      <th>enrollment_year</th>\n",
       "      <th>enrollment_month</th>\n",
       "      <th>year</th>\n",
       "      <th>month</th>\n",
       "      <th>flights_booked</th>\n",
       "      <th>flights_with_companions</th>\n",
       "      <th>total_flights</th>\n",
       "      <th>distance</th>\n",
       "      <th>points_accumulated</th>\n",
       "      <th>points_redeemed</th>\n",
       "      <th>dollar_cost_points_redeemed</th>\n",
       "    </tr>\n",
       "  </thead>\n",
       "  <tbody>\n",
       "    <tr>\n",
       "      <th>0</th>\n",
       "      <td>480934</td>\n",
       "      <td>Canada</td>\n",
       "      <td>Ontario</td>\n",
       "      <td>Toronto</td>\n",
       "      <td>M2Z 4K1</td>\n",
       "      <td>Female</td>\n",
       "      <td>Bachelor</td>\n",
       "      <td>83236.0</td>\n",
       "      <td>Married</td>\n",
       "      <td>Star</td>\n",
       "      <td>3839.14</td>\n",
       "      <td>Standard</td>\n",
       "      <td>2016</td>\n",
       "      <td>2</td>\n",
       "      <td>2017</td>\n",
       "      <td>1</td>\n",
       "      <td>0</td>\n",
       "      <td>0</td>\n",
       "      <td>0</td>\n",
       "      <td>0</td>\n",
       "      <td>0.0</td>\n",
       "      <td>0</td>\n",
       "      <td>0</td>\n",
       "    </tr>\n",
       "    <tr>\n",
       "      <th>1</th>\n",
       "      <td>480934</td>\n",
       "      <td>Canada</td>\n",
       "      <td>Ontario</td>\n",
       "      <td>Toronto</td>\n",
       "      <td>M2Z 4K1</td>\n",
       "      <td>Female</td>\n",
       "      <td>Bachelor</td>\n",
       "      <td>83236.0</td>\n",
       "      <td>Married</td>\n",
       "      <td>Star</td>\n",
       "      <td>3839.14</td>\n",
       "      <td>Standard</td>\n",
       "      <td>2016</td>\n",
       "      <td>2</td>\n",
       "      <td>2017</td>\n",
       "      <td>2</td>\n",
       "      <td>3</td>\n",
       "      <td>0</td>\n",
       "      <td>3</td>\n",
       "      <td>2823</td>\n",
       "      <td>282.0</td>\n",
       "      <td>0</td>\n",
       "      <td>0</td>\n",
       "    </tr>\n",
       "    <tr>\n",
       "      <th>2</th>\n",
       "      <td>480934</td>\n",
       "      <td>Canada</td>\n",
       "      <td>Ontario</td>\n",
       "      <td>Toronto</td>\n",
       "      <td>M2Z 4K1</td>\n",
       "      <td>Female</td>\n",
       "      <td>Bachelor</td>\n",
       "      <td>83236.0</td>\n",
       "      <td>Married</td>\n",
       "      <td>Star</td>\n",
       "      <td>3839.14</td>\n",
       "      <td>Standard</td>\n",
       "      <td>2016</td>\n",
       "      <td>2</td>\n",
       "      <td>2017</td>\n",
       "      <td>3</td>\n",
       "      <td>0</td>\n",
       "      <td>0</td>\n",
       "      <td>0</td>\n",
       "      <td>0</td>\n",
       "      <td>0.0</td>\n",
       "      <td>0</td>\n",
       "      <td>0</td>\n",
       "    </tr>\n",
       "    <tr>\n",
       "      <th>3</th>\n",
       "      <td>480934</td>\n",
       "      <td>Canada</td>\n",
       "      <td>Ontario</td>\n",
       "      <td>Toronto</td>\n",
       "      <td>M2Z 4K1</td>\n",
       "      <td>Female</td>\n",
       "      <td>Bachelor</td>\n",
       "      <td>83236.0</td>\n",
       "      <td>Married</td>\n",
       "      <td>Star</td>\n",
       "      <td>3839.14</td>\n",
       "      <td>Standard</td>\n",
       "      <td>2016</td>\n",
       "      <td>2</td>\n",
       "      <td>2017</td>\n",
       "      <td>4</td>\n",
       "      <td>0</td>\n",
       "      <td>0</td>\n",
       "      <td>0</td>\n",
       "      <td>0</td>\n",
       "      <td>0.0</td>\n",
       "      <td>0</td>\n",
       "      <td>0</td>\n",
       "    </tr>\n",
       "    <tr>\n",
       "      <th>4</th>\n",
       "      <td>480934</td>\n",
       "      <td>Canada</td>\n",
       "      <td>Ontario</td>\n",
       "      <td>Toronto</td>\n",
       "      <td>M2Z 4K1</td>\n",
       "      <td>Female</td>\n",
       "      <td>Bachelor</td>\n",
       "      <td>83236.0</td>\n",
       "      <td>Married</td>\n",
       "      <td>Star</td>\n",
       "      <td>3839.14</td>\n",
       "      <td>Standard</td>\n",
       "      <td>2016</td>\n",
       "      <td>2</td>\n",
       "      <td>2018</td>\n",
       "      <td>10</td>\n",
       "      <td>6</td>\n",
       "      <td>2</td>\n",
       "      <td>8</td>\n",
       "      <td>3352</td>\n",
       "      <td>335.0</td>\n",
       "      <td>465</td>\n",
       "      <td>38</td>\n",
       "    </tr>\n",
       "  </tbody>\n",
       "</table>\n",
       "</div>"
      ],
      "text/plain": [
       "   loyalty_number country province     city postal_code  gender education  \\\n",
       "0          480934  Canada  Ontario  Toronto     M2Z 4K1  Female  Bachelor   \n",
       "1          480934  Canada  Ontario  Toronto     M2Z 4K1  Female  Bachelor   \n",
       "2          480934  Canada  Ontario  Toronto     M2Z 4K1  Female  Bachelor   \n",
       "3          480934  Canada  Ontario  Toronto     M2Z 4K1  Female  Bachelor   \n",
       "4          480934  Canada  Ontario  Toronto     M2Z 4K1  Female  Bachelor   \n",
       "\n",
       "    salary marital_status loyalty_card      clv enrollment_type  \\\n",
       "0  83236.0        Married         Star  3839.14        Standard   \n",
       "1  83236.0        Married         Star  3839.14        Standard   \n",
       "2  83236.0        Married         Star  3839.14        Standard   \n",
       "3  83236.0        Married         Star  3839.14        Standard   \n",
       "4  83236.0        Married         Star  3839.14        Standard   \n",
       "\n",
       "   enrollment_year  enrollment_month  year  month  flights_booked  \\\n",
       "0             2016                 2  2017      1               0   \n",
       "1             2016                 2  2017      2               3   \n",
       "2             2016                 2  2017      3               0   \n",
       "3             2016                 2  2017      4               0   \n",
       "4             2016                 2  2018     10               6   \n",
       "\n",
       "   flights_with_companions  total_flights  distance  points_accumulated  \\\n",
       "0                        0              0         0                 0.0   \n",
       "1                        0              3      2823               282.0   \n",
       "2                        0              0         0                 0.0   \n",
       "3                        0              0         0                 0.0   \n",
       "4                        2              8      3352               335.0   \n",
       "\n",
       "   points_redeemed  dollar_cost_points_redeemed  \n",
       "0                0                            0  \n",
       "1                0                            0  \n",
       "2                0                            0  \n",
       "3                0                            0  \n",
       "4              465                           38  "
      ]
     },
     "execution_count": 248,
     "metadata": {},
     "output_type": "execute_result"
    }
   ],
   "source": [
    "df_datos.head()"
   ]
  },
  {
   "cell_type": "markdown",
   "metadata": {},
   "source": [
    "Hay dos columnas (flights_booked) y total_flights que  a primera vista parecen tener los mismos valores. Lo compruebo y certifico que son diferentes\n"
   ]
  },
  {
   "cell_type": "code",
   "execution_count": 249,
   "metadata": {},
   "outputs": [
    {
     "data": {
      "text/plain": [
       "flights_booked\n",
       "21       528\n",
       "20      1156\n",
       "19      1496\n",
       "18      2958\n",
       "17      3899\n",
       "16      4354\n",
       "15      6582\n",
       "14      7057\n",
       "12     10382\n",
       "13     10782\n",
       "1      12667\n",
       "4      12821\n",
       "10     13363\n",
       "2      13641\n",
       "6      13847\n",
       "9      14164\n",
       "8      14357\n",
       "7      14561\n",
       "5      15084\n",
       "11     15705\n",
       "3      18228\n",
       "0     197992\n",
       "Name: count, dtype: int64"
      ]
     },
     "execution_count": 249,
     "metadata": {},
     "output_type": "execute_result"
    }
   ],
   "source": [
    "df_datos['flights_booked'].value_counts().sort_values()"
   ]
  },
  {
   "cell_type": "code",
   "execution_count": 250,
   "metadata": {},
   "outputs": [
    {
     "data": {
      "text/plain": [
       "total_flights\n",
       "32        27\n",
       "31        61\n",
       "30       150\n",
       "29       214\n",
       "28       306\n",
       "27       504\n",
       "26       722\n",
       "25       900\n",
       "24      1209\n",
       "23      1616\n",
       "22      1981\n",
       "21      2610\n",
       "20      3417\n",
       "19      4002\n",
       "18      5757\n",
       "1       6106\n",
       "17      6198\n",
       "16      7727\n",
       "15      8544\n",
       "5       9309\n",
       "3       9783\n",
       "7       9873\n",
       "14     10310\n",
       "13     10499\n",
       "9      10688\n",
       "11     12300\n",
       "12     12409\n",
       "2      13032\n",
       "4      13656\n",
       "8      14056\n",
       "10     14393\n",
       "6      15273\n",
       "0     197992\n",
       "Name: count, dtype: int64"
      ]
     },
     "execution_count": 250,
     "metadata": {},
     "output_type": "execute_result"
    }
   ],
   "source": [
    "\n",
    "df_datos['total_flights'].value_counts().sort_values()"
   ]
  },
  {
   "cell_type": "code",
   "execution_count": 251,
   "metadata": {},
   "outputs": [
    {
     "name": "stdout",
     "output_type": "stream",
     "text": [
      "<class 'pandas.core.frame.DataFrame'>\n",
      "RangeIndex: 405624 entries, 0 to 405623\n",
      "Data columns (total 23 columns):\n",
      " #   Column                       Non-Null Count   Dtype  \n",
      "---  ------                       --------------   -----  \n",
      " 0   loyalty_number               405624 non-null  int64  \n",
      " 1   country                      405624 non-null  object \n",
      " 2   province                     405624 non-null  object \n",
      " 3   city                         405624 non-null  object \n",
      " 4   postal_code                  405624 non-null  object \n",
      " 5   gender                       405624 non-null  object \n",
      " 6   education                    405624 non-null  object \n",
      " 7   salary                       405624 non-null  float64\n",
      " 8   marital_status               405624 non-null  object \n",
      " 9   loyalty_card                 405624 non-null  object \n",
      " 10  clv                          405624 non-null  float64\n",
      " 11  enrollment_type              405624 non-null  object \n",
      " 12  enrollment_year              405624 non-null  int64  \n",
      " 13  enrollment_month             405624 non-null  int64  \n",
      " 14  year                         405624 non-null  int64  \n",
      " 15  month                        405624 non-null  int64  \n",
      " 16  flights_booked               405624 non-null  int64  \n",
      " 17  flights_with_companions      405624 non-null  int64  \n",
      " 18  total_flights                405624 non-null  int64  \n",
      " 19  distance                     405624 non-null  int64  \n",
      " 20  points_accumulated           405624 non-null  float64\n",
      " 21  points_redeemed              405624 non-null  int64  \n",
      " 22  dollar_cost_points_redeemed  405624 non-null  int64  \n",
      "dtypes: float64(3), int64(11), object(9)\n",
      "memory usage: 71.2+ MB\n"
     ]
    }
   ],
   "source": [
    "df_datos.info()"
   ]
  },
  {
   "cell_type": "markdown",
   "metadata": {},
   "source": [
    "_____\n",
    "**`NOTA`**# Fase 2: Visualización en otro júpiter (visualizaciones.ipynb). Debido al lento proceso de los datos he hecho un sample y lo muestro las visualizaciones a parte\n",
    "\n",
    "Trabajo con una muestra del 10% de los datos\n",
    "_____"
   ]
  },
  {
   "cell_type": "code",
   "execution_count": 252,
   "metadata": {},
   "outputs": [
    {
     "data": {
      "text/plain": [
       "(405624, 23)"
      ]
     },
     "execution_count": 252,
     "metadata": {},
     "output_type": "execute_result"
    }
   ],
   "source": [
    "df_datos.shape"
   ]
  },
  {
   "cell_type": "code",
   "execution_count": 253,
   "metadata": {},
   "outputs": [],
   "source": [
    "porcentaje_muestra = 0.10\n",
    "numero_muestras = int(len(df_datos) * porcentaje_muestra)\n",
    "df_muestra = df_datos.sample(n=numero_muestras, random_state=42)"
   ]
  },
  {
   "cell_type": "code",
   "execution_count": 254,
   "metadata": {},
   "outputs": [
    {
     "data": {
      "text/html": [
       "<div>\n",
       "<style scoped>\n",
       "    .dataframe tbody tr th:only-of-type {\n",
       "        vertical-align: middle;\n",
       "    }\n",
       "\n",
       "    .dataframe tbody tr th {\n",
       "        vertical-align: top;\n",
       "    }\n",
       "\n",
       "    .dataframe thead th {\n",
       "        text-align: right;\n",
       "    }\n",
       "</style>\n",
       "<table border=\"1\" class=\"dataframe\">\n",
       "  <thead>\n",
       "    <tr style=\"text-align: right;\">\n",
       "      <th></th>\n",
       "      <th>loyalty_number</th>\n",
       "      <th>country</th>\n",
       "      <th>province</th>\n",
       "      <th>city</th>\n",
       "      <th>postal_code</th>\n",
       "      <th>gender</th>\n",
       "      <th>education</th>\n",
       "      <th>salary</th>\n",
       "      <th>marital_status</th>\n",
       "      <th>loyalty_card</th>\n",
       "      <th>clv</th>\n",
       "      <th>enrollment_type</th>\n",
       "      <th>enrollment_year</th>\n",
       "      <th>enrollment_month</th>\n",
       "      <th>year</th>\n",
       "      <th>month</th>\n",
       "      <th>flights_booked</th>\n",
       "      <th>flights_with_companions</th>\n",
       "      <th>total_flights</th>\n",
       "      <th>distance</th>\n",
       "      <th>points_accumulated</th>\n",
       "      <th>points_redeemed</th>\n",
       "      <th>dollar_cost_points_redeemed</th>\n",
       "    </tr>\n",
       "  </thead>\n",
       "  <tbody>\n",
       "    <tr>\n",
       "      <th>182259</th>\n",
       "      <td>975944</td>\n",
       "      <td>Canada</td>\n",
       "      <td>British Columbia</td>\n",
       "      <td>Vancouver</td>\n",
       "      <td>V6E 3Z3</td>\n",
       "      <td>Male</td>\n",
       "      <td>Bachelor</td>\n",
       "      <td>47884.0</td>\n",
       "      <td>Married</td>\n",
       "      <td>Nova</td>\n",
       "      <td>7123.08</td>\n",
       "      <td>Standard</td>\n",
       "      <td>2013</td>\n",
       "      <td>4</td>\n",
       "      <td>2017</td>\n",
       "      <td>5</td>\n",
       "      <td>0</td>\n",
       "      <td>0</td>\n",
       "      <td>0</td>\n",
       "      <td>0</td>\n",
       "      <td>0.0</td>\n",
       "      <td>0</td>\n",
       "      <td>0</td>\n",
       "    </tr>\n",
       "    <tr>\n",
       "      <th>78391</th>\n",
       "      <td>444154</td>\n",
       "      <td>Canada</td>\n",
       "      <td>British Columbia</td>\n",
       "      <td>West Vancouver</td>\n",
       "      <td>V6V 8Z3</td>\n",
       "      <td>Female</td>\n",
       "      <td>Bachelor</td>\n",
       "      <td>63076.0</td>\n",
       "      <td>Single</td>\n",
       "      <td>Aurora</td>\n",
       "      <td>11124.21</td>\n",
       "      <td>Standard</td>\n",
       "      <td>2012</td>\n",
       "      <td>10</td>\n",
       "      <td>2017</td>\n",
       "      <td>9</td>\n",
       "      <td>2</td>\n",
       "      <td>2</td>\n",
       "      <td>4</td>\n",
       "      <td>1920</td>\n",
       "      <td>192.0</td>\n",
       "      <td>0</td>\n",
       "      <td>0</td>\n",
       "    </tr>\n",
       "    <tr>\n",
       "      <th>24345</th>\n",
       "      <td>293266</td>\n",
       "      <td>Canada</td>\n",
       "      <td>Quebec</td>\n",
       "      <td>Montreal</td>\n",
       "      <td>H2T 9K8</td>\n",
       "      <td>Female</td>\n",
       "      <td>Bachelor</td>\n",
       "      <td>53061.0</td>\n",
       "      <td>Married</td>\n",
       "      <td>Aurora</td>\n",
       "      <td>5246.28</td>\n",
       "      <td>Standard</td>\n",
       "      <td>2014</td>\n",
       "      <td>10</td>\n",
       "      <td>2017</td>\n",
       "      <td>10</td>\n",
       "      <td>13</td>\n",
       "      <td>7</td>\n",
       "      <td>20</td>\n",
       "      <td>2540</td>\n",
       "      <td>254.0</td>\n",
       "      <td>0</td>\n",
       "      <td>0</td>\n",
       "    </tr>\n",
       "    <tr>\n",
       "      <th>297818</th>\n",
       "      <td>587619</td>\n",
       "      <td>Canada</td>\n",
       "      <td>Manitoba</td>\n",
       "      <td>Winnipeg</td>\n",
       "      <td>R2C 0M5</td>\n",
       "      <td>Male</td>\n",
       "      <td>Bachelor</td>\n",
       "      <td>81959.0</td>\n",
       "      <td>Divorced</td>\n",
       "      <td>Star</td>\n",
       "      <td>3455.23</td>\n",
       "      <td>Standard</td>\n",
       "      <td>2012</td>\n",
       "      <td>4</td>\n",
       "      <td>2017</td>\n",
       "      <td>4</td>\n",
       "      <td>8</td>\n",
       "      <td>5</td>\n",
       "      <td>13</td>\n",
       "      <td>3029</td>\n",
       "      <td>302.0</td>\n",
       "      <td>0</td>\n",
       "      <td>0</td>\n",
       "    </tr>\n",
       "    <tr>\n",
       "      <th>203891</th>\n",
       "      <td>150291</td>\n",
       "      <td>Canada</td>\n",
       "      <td>British Columbia</td>\n",
       "      <td>West Vancouver</td>\n",
       "      <td>V6V 8Z3</td>\n",
       "      <td>Male</td>\n",
       "      <td>Bachelor</td>\n",
       "      <td>70384.0</td>\n",
       "      <td>Single</td>\n",
       "      <td>Nova</td>\n",
       "      <td>8879.79</td>\n",
       "      <td>Standard</td>\n",
       "      <td>2013</td>\n",
       "      <td>11</td>\n",
       "      <td>2017</td>\n",
       "      <td>12</td>\n",
       "      <td>5</td>\n",
       "      <td>0</td>\n",
       "      <td>5</td>\n",
       "      <td>2240</td>\n",
       "      <td>224.0</td>\n",
       "      <td>0</td>\n",
       "      <td>0</td>\n",
       "    </tr>\n",
       "    <tr>\n",
       "      <th>...</th>\n",
       "      <td>...</td>\n",
       "      <td>...</td>\n",
       "      <td>...</td>\n",
       "      <td>...</td>\n",
       "      <td>...</td>\n",
       "      <td>...</td>\n",
       "      <td>...</td>\n",
       "      <td>...</td>\n",
       "      <td>...</td>\n",
       "      <td>...</td>\n",
       "      <td>...</td>\n",
       "      <td>...</td>\n",
       "      <td>...</td>\n",
       "      <td>...</td>\n",
       "      <td>...</td>\n",
       "      <td>...</td>\n",
       "      <td>...</td>\n",
       "      <td>...</td>\n",
       "      <td>...</td>\n",
       "      <td>...</td>\n",
       "      <td>...</td>\n",
       "      <td>...</td>\n",
       "      <td>...</td>\n",
       "    </tr>\n",
       "    <tr>\n",
       "      <th>118196</th>\n",
       "      <td>949134</td>\n",
       "      <td>Canada</td>\n",
       "      <td>New Brunswick</td>\n",
       "      <td>Fredericton</td>\n",
       "      <td>E3B 2H2</td>\n",
       "      <td>Female</td>\n",
       "      <td>Bachelor</td>\n",
       "      <td>100256.0</td>\n",
       "      <td>Married</td>\n",
       "      <td>Nova</td>\n",
       "      <td>3193.82</td>\n",
       "      <td>Standard</td>\n",
       "      <td>2013</td>\n",
       "      <td>6</td>\n",
       "      <td>2018</td>\n",
       "      <td>9</td>\n",
       "      <td>5</td>\n",
       "      <td>0</td>\n",
       "      <td>5</td>\n",
       "      <td>2675</td>\n",
       "      <td>267.0</td>\n",
       "      <td>0</td>\n",
       "      <td>0</td>\n",
       "    </tr>\n",
       "    <tr>\n",
       "      <th>187154</th>\n",
       "      <td>414727</td>\n",
       "      <td>Canada</td>\n",
       "      <td>British Columbia</td>\n",
       "      <td>Vancouver</td>\n",
       "      <td>V1E 4R6</td>\n",
       "      <td>Female</td>\n",
       "      <td>Bachelor</td>\n",
       "      <td>102379.0</td>\n",
       "      <td>Divorced</td>\n",
       "      <td>Nova</td>\n",
       "      <td>7519.13</td>\n",
       "      <td>Standard</td>\n",
       "      <td>2014</td>\n",
       "      <td>2</td>\n",
       "      <td>2017</td>\n",
       "      <td>3</td>\n",
       "      <td>0</td>\n",
       "      <td>0</td>\n",
       "      <td>0</td>\n",
       "      <td>0</td>\n",
       "      <td>0.0</td>\n",
       "      <td>0</td>\n",
       "      <td>0</td>\n",
       "    </tr>\n",
       "    <tr>\n",
       "      <th>175474</th>\n",
       "      <td>590025</td>\n",
       "      <td>Canada</td>\n",
       "      <td>Ontario</td>\n",
       "      <td>Trenton</td>\n",
       "      <td>K8V 4B2</td>\n",
       "      <td>Female</td>\n",
       "      <td>College</td>\n",
       "      <td>73455.0</td>\n",
       "      <td>Married</td>\n",
       "      <td>Nova</td>\n",
       "      <td>6331.34</td>\n",
       "      <td>Standard</td>\n",
       "      <td>2017</td>\n",
       "      <td>12</td>\n",
       "      <td>2017</td>\n",
       "      <td>10</td>\n",
       "      <td>0</td>\n",
       "      <td>0</td>\n",
       "      <td>0</td>\n",
       "      <td>0</td>\n",
       "      <td>0.0</td>\n",
       "      <td>0</td>\n",
       "      <td>0</td>\n",
       "    </tr>\n",
       "    <tr>\n",
       "      <th>25868</th>\n",
       "      <td>323821</td>\n",
       "      <td>Canada</td>\n",
       "      <td>British Columbia</td>\n",
       "      <td>Vancouver</td>\n",
       "      <td>V5R 1W3</td>\n",
       "      <td>Female</td>\n",
       "      <td>High School or Below</td>\n",
       "      <td>49083.0</td>\n",
       "      <td>Married</td>\n",
       "      <td>Aurora</td>\n",
       "      <td>5297.63</td>\n",
       "      <td>Standard</td>\n",
       "      <td>2016</td>\n",
       "      <td>12</td>\n",
       "      <td>2017</td>\n",
       "      <td>11</td>\n",
       "      <td>5</td>\n",
       "      <td>5</td>\n",
       "      <td>10</td>\n",
       "      <td>3420</td>\n",
       "      <td>342.0</td>\n",
       "      <td>0</td>\n",
       "      <td>0</td>\n",
       "    </tr>\n",
       "    <tr>\n",
       "      <th>95593</th>\n",
       "      <td>677217</td>\n",
       "      <td>Canada</td>\n",
       "      <td>Quebec</td>\n",
       "      <td>Montreal</td>\n",
       "      <td>H2T 2J6</td>\n",
       "      <td>Male</td>\n",
       "      <td>Bachelor</td>\n",
       "      <td>82573.0</td>\n",
       "      <td>Single</td>\n",
       "      <td>Aurora</td>\n",
       "      <td>23086.36</td>\n",
       "      <td>Standard</td>\n",
       "      <td>2014</td>\n",
       "      <td>9</td>\n",
       "      <td>2017</td>\n",
       "      <td>2</td>\n",
       "      <td>3</td>\n",
       "      <td>3</td>\n",
       "      <td>6</td>\n",
       "      <td>408</td>\n",
       "      <td>40.0</td>\n",
       "      <td>0</td>\n",
       "      <td>0</td>\n",
       "    </tr>\n",
       "  </tbody>\n",
       "</table>\n",
       "<p>40562 rows × 23 columns</p>\n",
       "</div>"
      ],
      "text/plain": [
       "        loyalty_number country          province            city postal_code  \\\n",
       "182259          975944  Canada  British Columbia       Vancouver     V6E 3Z3   \n",
       "78391           444154  Canada  British Columbia  West Vancouver     V6V 8Z3   \n",
       "24345           293266  Canada            Quebec        Montreal     H2T 9K8   \n",
       "297818          587619  Canada          Manitoba        Winnipeg     R2C 0M5   \n",
       "203891          150291  Canada  British Columbia  West Vancouver     V6V 8Z3   \n",
       "...                ...     ...               ...             ...         ...   \n",
       "118196          949134  Canada     New Brunswick     Fredericton     E3B 2H2   \n",
       "187154          414727  Canada  British Columbia       Vancouver     V1E 4R6   \n",
       "175474          590025  Canada           Ontario         Trenton     K8V 4B2   \n",
       "25868           323821  Canada  British Columbia       Vancouver     V5R 1W3   \n",
       "95593           677217  Canada            Quebec        Montreal     H2T 2J6   \n",
       "\n",
       "        gender             education    salary marital_status loyalty_card  \\\n",
       "182259    Male              Bachelor   47884.0        Married         Nova   \n",
       "78391   Female              Bachelor   63076.0         Single       Aurora   \n",
       "24345   Female              Bachelor   53061.0        Married       Aurora   \n",
       "297818    Male              Bachelor   81959.0       Divorced         Star   \n",
       "203891    Male              Bachelor   70384.0         Single         Nova   \n",
       "...        ...                   ...       ...            ...          ...   \n",
       "118196  Female              Bachelor  100256.0        Married         Nova   \n",
       "187154  Female              Bachelor  102379.0       Divorced         Nova   \n",
       "175474  Female               College   73455.0        Married         Nova   \n",
       "25868   Female  High School or Below   49083.0        Married       Aurora   \n",
       "95593     Male              Bachelor   82573.0         Single       Aurora   \n",
       "\n",
       "             clv enrollment_type  enrollment_year  enrollment_month  year  \\\n",
       "182259   7123.08        Standard             2013                 4  2017   \n",
       "78391   11124.21        Standard             2012                10  2017   \n",
       "24345    5246.28        Standard             2014                10  2017   \n",
       "297818   3455.23        Standard             2012                 4  2017   \n",
       "203891   8879.79        Standard             2013                11  2017   \n",
       "...          ...             ...              ...               ...   ...   \n",
       "118196   3193.82        Standard             2013                 6  2018   \n",
       "187154   7519.13        Standard             2014                 2  2017   \n",
       "175474   6331.34        Standard             2017                12  2017   \n",
       "25868    5297.63        Standard             2016                12  2017   \n",
       "95593   23086.36        Standard             2014                 9  2017   \n",
       "\n",
       "        month  flights_booked  flights_with_companions  total_flights  \\\n",
       "182259      5               0                        0              0   \n",
       "78391       9               2                        2              4   \n",
       "24345      10              13                        7             20   \n",
       "297818      4               8                        5             13   \n",
       "203891     12               5                        0              5   \n",
       "...       ...             ...                      ...            ...   \n",
       "118196      9               5                        0              5   \n",
       "187154      3               0                        0              0   \n",
       "175474     10               0                        0              0   \n",
       "25868      11               5                        5             10   \n",
       "95593       2               3                        3              6   \n",
       "\n",
       "        distance  points_accumulated  points_redeemed  \\\n",
       "182259         0                 0.0                0   \n",
       "78391       1920               192.0                0   \n",
       "24345       2540               254.0                0   \n",
       "297818      3029               302.0                0   \n",
       "203891      2240               224.0                0   \n",
       "...          ...                 ...              ...   \n",
       "118196      2675               267.0                0   \n",
       "187154         0                 0.0                0   \n",
       "175474         0                 0.0                0   \n",
       "25868       3420               342.0                0   \n",
       "95593        408                40.0                0   \n",
       "\n",
       "        dollar_cost_points_redeemed  \n",
       "182259                            0  \n",
       "78391                             0  \n",
       "24345                             0  \n",
       "297818                            0  \n",
       "203891                            0  \n",
       "...                             ...  \n",
       "118196                            0  \n",
       "187154                            0  \n",
       "175474                            0  \n",
       "25868                             0  \n",
       "95593                             0  \n",
       "\n",
       "[40562 rows x 23 columns]"
      ]
     },
     "execution_count": 254,
     "metadata": {},
     "output_type": "execute_result"
    }
   ],
   "source": [
    "df_muestra"
   ]
  },
  {
   "cell_type": "code",
   "execution_count": 255,
   "metadata": {},
   "outputs": [],
   "source": [
    "#Debido a la lentitud al procesar los datos decido guardar el nuevo data frame en un csv  para seguir el ejercicio en otro júpiter si hace falta\n",
    "\n",
    "df_muestra.to_csv(\"datos_muestra.cvs\", index=False)"
   ]
  },
  {
   "cell_type": "code",
   "execution_count": 256,
   "metadata": {},
   "outputs": [
    {
     "data": {
      "text/html": [
       "<div>\n",
       "<style scoped>\n",
       "    .dataframe tbody tr th:only-of-type {\n",
       "        vertical-align: middle;\n",
       "    }\n",
       "\n",
       "    .dataframe tbody tr th {\n",
       "        vertical-align: top;\n",
       "    }\n",
       "\n",
       "    .dataframe thead th {\n",
       "        text-align: right;\n",
       "    }\n",
       "</style>\n",
       "<table border=\"1\" class=\"dataframe\">\n",
       "  <thead>\n",
       "    <tr style=\"text-align: right;\">\n",
       "      <th></th>\n",
       "      <th>loyalty_number</th>\n",
       "      <th>country</th>\n",
       "      <th>province</th>\n",
       "      <th>city</th>\n",
       "      <th>postal_code</th>\n",
       "      <th>gender</th>\n",
       "      <th>education</th>\n",
       "      <th>salary</th>\n",
       "      <th>marital_status</th>\n",
       "      <th>loyalty_card</th>\n",
       "      <th>clv</th>\n",
       "      <th>enrollment_type</th>\n",
       "      <th>enrollment_year</th>\n",
       "      <th>enrollment_month</th>\n",
       "      <th>year</th>\n",
       "      <th>month</th>\n",
       "      <th>flights_booked</th>\n",
       "      <th>flights_with_companions</th>\n",
       "      <th>total_flights</th>\n",
       "      <th>distance</th>\n",
       "      <th>points_accumulated</th>\n",
       "      <th>points_redeemed</th>\n",
       "      <th>dollar_cost_points_redeemed</th>\n",
       "    </tr>\n",
       "  </thead>\n",
       "  <tbody>\n",
       "    <tr>\n",
       "      <th>0</th>\n",
       "      <td>480934</td>\n",
       "      <td>Canada</td>\n",
       "      <td>Ontario</td>\n",
       "      <td>Toronto</td>\n",
       "      <td>M2Z 4K1</td>\n",
       "      <td>Female</td>\n",
       "      <td>Bachelor</td>\n",
       "      <td>83236.0</td>\n",
       "      <td>Married</td>\n",
       "      <td>Star</td>\n",
       "      <td>3839.14</td>\n",
       "      <td>Standard</td>\n",
       "      <td>2016</td>\n",
       "      <td>2</td>\n",
       "      <td>2017</td>\n",
       "      <td>1</td>\n",
       "      <td>0</td>\n",
       "      <td>0</td>\n",
       "      <td>0</td>\n",
       "      <td>0</td>\n",
       "      <td>0.0</td>\n",
       "      <td>0</td>\n",
       "      <td>0</td>\n",
       "    </tr>\n",
       "    <tr>\n",
       "      <th>1</th>\n",
       "      <td>480934</td>\n",
       "      <td>Canada</td>\n",
       "      <td>Ontario</td>\n",
       "      <td>Toronto</td>\n",
       "      <td>M2Z 4K1</td>\n",
       "      <td>Female</td>\n",
       "      <td>Bachelor</td>\n",
       "      <td>83236.0</td>\n",
       "      <td>Married</td>\n",
       "      <td>Star</td>\n",
       "      <td>3839.14</td>\n",
       "      <td>Standard</td>\n",
       "      <td>2016</td>\n",
       "      <td>2</td>\n",
       "      <td>2017</td>\n",
       "      <td>2</td>\n",
       "      <td>3</td>\n",
       "      <td>0</td>\n",
       "      <td>3</td>\n",
       "      <td>2823</td>\n",
       "      <td>282.0</td>\n",
       "      <td>0</td>\n",
       "      <td>0</td>\n",
       "    </tr>\n",
       "    <tr>\n",
       "      <th>2</th>\n",
       "      <td>480934</td>\n",
       "      <td>Canada</td>\n",
       "      <td>Ontario</td>\n",
       "      <td>Toronto</td>\n",
       "      <td>M2Z 4K1</td>\n",
       "      <td>Female</td>\n",
       "      <td>Bachelor</td>\n",
       "      <td>83236.0</td>\n",
       "      <td>Married</td>\n",
       "      <td>Star</td>\n",
       "      <td>3839.14</td>\n",
       "      <td>Standard</td>\n",
       "      <td>2016</td>\n",
       "      <td>2</td>\n",
       "      <td>2017</td>\n",
       "      <td>3</td>\n",
       "      <td>0</td>\n",
       "      <td>0</td>\n",
       "      <td>0</td>\n",
       "      <td>0</td>\n",
       "      <td>0.0</td>\n",
       "      <td>0</td>\n",
       "      <td>0</td>\n",
       "    </tr>\n",
       "    <tr>\n",
       "      <th>3</th>\n",
       "      <td>480934</td>\n",
       "      <td>Canada</td>\n",
       "      <td>Ontario</td>\n",
       "      <td>Toronto</td>\n",
       "      <td>M2Z 4K1</td>\n",
       "      <td>Female</td>\n",
       "      <td>Bachelor</td>\n",
       "      <td>83236.0</td>\n",
       "      <td>Married</td>\n",
       "      <td>Star</td>\n",
       "      <td>3839.14</td>\n",
       "      <td>Standard</td>\n",
       "      <td>2016</td>\n",
       "      <td>2</td>\n",
       "      <td>2017</td>\n",
       "      <td>4</td>\n",
       "      <td>0</td>\n",
       "      <td>0</td>\n",
       "      <td>0</td>\n",
       "      <td>0</td>\n",
       "      <td>0.0</td>\n",
       "      <td>0</td>\n",
       "      <td>0</td>\n",
       "    </tr>\n",
       "    <tr>\n",
       "      <th>4</th>\n",
       "      <td>480934</td>\n",
       "      <td>Canada</td>\n",
       "      <td>Ontario</td>\n",
       "      <td>Toronto</td>\n",
       "      <td>M2Z 4K1</td>\n",
       "      <td>Female</td>\n",
       "      <td>Bachelor</td>\n",
       "      <td>83236.0</td>\n",
       "      <td>Married</td>\n",
       "      <td>Star</td>\n",
       "      <td>3839.14</td>\n",
       "      <td>Standard</td>\n",
       "      <td>2016</td>\n",
       "      <td>2</td>\n",
       "      <td>2018</td>\n",
       "      <td>10</td>\n",
       "      <td>6</td>\n",
       "      <td>2</td>\n",
       "      <td>8</td>\n",
       "      <td>3352</td>\n",
       "      <td>335.0</td>\n",
       "      <td>465</td>\n",
       "      <td>38</td>\n",
       "    </tr>\n",
       "  </tbody>\n",
       "</table>\n",
       "</div>"
      ],
      "text/plain": [
       "   loyalty_number country province     city postal_code  gender education  \\\n",
       "0          480934  Canada  Ontario  Toronto     M2Z 4K1  Female  Bachelor   \n",
       "1          480934  Canada  Ontario  Toronto     M2Z 4K1  Female  Bachelor   \n",
       "2          480934  Canada  Ontario  Toronto     M2Z 4K1  Female  Bachelor   \n",
       "3          480934  Canada  Ontario  Toronto     M2Z 4K1  Female  Bachelor   \n",
       "4          480934  Canada  Ontario  Toronto     M2Z 4K1  Female  Bachelor   \n",
       "\n",
       "    salary marital_status loyalty_card      clv enrollment_type  \\\n",
       "0  83236.0        Married         Star  3839.14        Standard   \n",
       "1  83236.0        Married         Star  3839.14        Standard   \n",
       "2  83236.0        Married         Star  3839.14        Standard   \n",
       "3  83236.0        Married         Star  3839.14        Standard   \n",
       "4  83236.0        Married         Star  3839.14        Standard   \n",
       "\n",
       "   enrollment_year  enrollment_month  year  month  flights_booked  \\\n",
       "0             2016                 2  2017      1               0   \n",
       "1             2016                 2  2017      2               3   \n",
       "2             2016                 2  2017      3               0   \n",
       "3             2016                 2  2017      4               0   \n",
       "4             2016                 2  2018     10               6   \n",
       "\n",
       "   flights_with_companions  total_flights  distance  points_accumulated  \\\n",
       "0                        0              0         0                 0.0   \n",
       "1                        0              3      2823               282.0   \n",
       "2                        0              0         0                 0.0   \n",
       "3                        0              0         0                 0.0   \n",
       "4                        2              8      3352               335.0   \n",
       "\n",
       "   points_redeemed  dollar_cost_points_redeemed  \n",
       "0                0                            0  \n",
       "1                0                            0  \n",
       "2                0                            0  \n",
       "3                0                            0  \n",
       "4              465                           38  "
      ]
     },
     "execution_count": 256,
     "metadata": {},
     "output_type": "execute_result"
    }
   ],
   "source": [
    "df_datos.head()"
   ]
  },
  {
   "cell_type": "markdown",
   "metadata": {},
   "source": [
    "______\n",
    "\n",
    "# Fase 3: Evaluación de Diferencias en Reservas de Vuelos por Nivel Educativo\n",
    "\n",
    "Utilizando un conjunto de datos que hemos compartido, se busca evaluar si existen diferencias significativas en el número de vuelos reservados según el nivel educativo de los clientes. Para ello, los pasos que deberas seguir son:\n",
    "\n",
    "1. **Preparación de Datos:**\n",
    "\n",
    "Filtra el conjunto de datos para incluir únicamente las columnas relevantes: 'Flights Booked' y 'Education'"
   ]
  },
  {
   "cell_type": "code",
   "execution_count": 257,
   "metadata": {},
   "outputs": [
    {
     "data": {
      "text/plain": [
       "1669164"
      ]
     },
     "execution_count": 257,
     "metadata": {},
     "output_type": "execute_result"
    }
   ],
   "source": [
    "df_datos[\"flights_booked\"].sum()"
   ]
  },
  {
   "cell_type": "code",
   "execution_count": 258,
   "metadata": {},
   "outputs": [
    {
     "data": {
      "text/html": [
       "<div>\n",
       "<style scoped>\n",
       "    .dataframe tbody tr th:only-of-type {\n",
       "        vertical-align: middle;\n",
       "    }\n",
       "\n",
       "    .dataframe tbody tr th {\n",
       "        vertical-align: top;\n",
       "    }\n",
       "\n",
       "    .dataframe thead th {\n",
       "        text-align: right;\n",
       "    }\n",
       "</style>\n",
       "<table border=\"1\" class=\"dataframe\">\n",
       "  <thead>\n",
       "    <tr style=\"text-align: right;\">\n",
       "      <th></th>\n",
       "      <th>flights_booked</th>\n",
       "      <th>education</th>\n",
       "    </tr>\n",
       "  </thead>\n",
       "  <tbody>\n",
       "    <tr>\n",
       "      <th>0</th>\n",
       "      <td>0</td>\n",
       "      <td>Bachelor</td>\n",
       "    </tr>\n",
       "    <tr>\n",
       "      <th>1</th>\n",
       "      <td>3</td>\n",
       "      <td>Bachelor</td>\n",
       "    </tr>\n",
       "    <tr>\n",
       "      <th>2</th>\n",
       "      <td>0</td>\n",
       "      <td>Bachelor</td>\n",
       "    </tr>\n",
       "    <tr>\n",
       "      <th>3</th>\n",
       "      <td>0</td>\n",
       "      <td>Bachelor</td>\n",
       "    </tr>\n",
       "    <tr>\n",
       "      <th>4</th>\n",
       "      <td>6</td>\n",
       "      <td>Bachelor</td>\n",
       "    </tr>\n",
       "    <tr>\n",
       "      <th>...</th>\n",
       "      <td>...</td>\n",
       "      <td>...</td>\n",
       "    </tr>\n",
       "    <tr>\n",
       "      <th>405619</th>\n",
       "      <td>0</td>\n",
       "      <td>Bachelor</td>\n",
       "    </tr>\n",
       "    <tr>\n",
       "      <th>405620</th>\n",
       "      <td>0</td>\n",
       "      <td>Bachelor</td>\n",
       "    </tr>\n",
       "    <tr>\n",
       "      <th>405621</th>\n",
       "      <td>0</td>\n",
       "      <td>Bachelor</td>\n",
       "    </tr>\n",
       "    <tr>\n",
       "      <th>405622</th>\n",
       "      <td>0</td>\n",
       "      <td>Bachelor</td>\n",
       "    </tr>\n",
       "    <tr>\n",
       "      <th>405623</th>\n",
       "      <td>0</td>\n",
       "      <td>Bachelor</td>\n",
       "    </tr>\n",
       "  </tbody>\n",
       "</table>\n",
       "<p>405624 rows × 2 columns</p>\n",
       "</div>"
      ],
      "text/plain": [
       "        flights_booked education\n",
       "0                    0  Bachelor\n",
       "1                    3  Bachelor\n",
       "2                    0  Bachelor\n",
       "3                    0  Bachelor\n",
       "4                    6  Bachelor\n",
       "...                ...       ...\n",
       "405619               0  Bachelor\n",
       "405620               0  Bachelor\n",
       "405621               0  Bachelor\n",
       "405622               0  Bachelor\n",
       "405623               0  Bachelor\n",
       "\n",
       "[405624 rows x 2 columns]"
      ]
     },
     "execution_count": 258,
     "metadata": {},
     "output_type": "execute_result"
    }
   ],
   "source": [
    "columnas_analisis = ['flights_booked', 'education']\n",
    "df_filtrado = df_datos[columnas_analisis]\n",
    "df_filtrado "
   ]
  },
  {
   "cell_type": "markdown",
   "metadata": {},
   "source": [
    "2. **Análisis Descriptivo:**\n",
    "\n",
    "Agrupa los datos por nivel educativo y calcula estadísticas descriptivas básicas (como el promedio, la desviación estandar, los percentiles) del número de vuelos reservados para cada grupo."
   ]
  },
  {
   "cell_type": "code",
   "execution_count": 259,
   "metadata": {},
   "outputs": [
    {
     "data": {
      "text/html": [
       "<div>\n",
       "<style scoped>\n",
       "    .dataframe tbody tr th:only-of-type {\n",
       "        vertical-align: middle;\n",
       "    }\n",
       "\n",
       "    .dataframe tbody tr th {\n",
       "        vertical-align: top;\n",
       "    }\n",
       "\n",
       "    .dataframe thead th {\n",
       "        text-align: right;\n",
       "    }\n",
       "</style>\n",
       "<table border=\"1\" class=\"dataframe\">\n",
       "  <thead>\n",
       "    <tr style=\"text-align: right;\">\n",
       "      <th>education</th>\n",
       "      <th>Bachelor</th>\n",
       "      <th>College</th>\n",
       "      <th>Doctor</th>\n",
       "      <th>High School or Below</th>\n",
       "      <th>Master</th>\n",
       "    </tr>\n",
       "  </thead>\n",
       "  <tbody>\n",
       "    <tr>\n",
       "      <th>count</th>\n",
       "      <td>253752.000000</td>\n",
       "      <td>102672.000000</td>\n",
       "      <td>17856.000000</td>\n",
       "      <td>19008.000000</td>\n",
       "      <td>12336.000000</td>\n",
       "    </tr>\n",
       "    <tr>\n",
       "      <th>mean</th>\n",
       "      <td>4.091093</td>\n",
       "      <td>4.153012</td>\n",
       "      <td>4.146281</td>\n",
       "      <td>4.155777</td>\n",
       "      <td>4.184014</td>\n",
       "    </tr>\n",
       "    <tr>\n",
       "      <th>std</th>\n",
       "      <td>5.216995</td>\n",
       "      <td>5.242136</td>\n",
       "      <td>5.250093</td>\n",
       "      <td>5.234551</td>\n",
       "      <td>5.210294</td>\n",
       "    </tr>\n",
       "    <tr>\n",
       "      <th>min</th>\n",
       "      <td>0.000000</td>\n",
       "      <td>0.000000</td>\n",
       "      <td>0.000000</td>\n",
       "      <td>0.000000</td>\n",
       "      <td>0.000000</td>\n",
       "    </tr>\n",
       "    <tr>\n",
       "      <th>25%</th>\n",
       "      <td>0.000000</td>\n",
       "      <td>0.000000</td>\n",
       "      <td>0.000000</td>\n",
       "      <td>0.000000</td>\n",
       "      <td>0.000000</td>\n",
       "    </tr>\n",
       "    <tr>\n",
       "      <th>50%</th>\n",
       "      <td>1.000000</td>\n",
       "      <td>1.000000</td>\n",
       "      <td>1.000000</td>\n",
       "      <td>1.000000</td>\n",
       "      <td>1.000000</td>\n",
       "    </tr>\n",
       "    <tr>\n",
       "      <th>75%</th>\n",
       "      <td>8.000000</td>\n",
       "      <td>8.000000</td>\n",
       "      <td>8.000000</td>\n",
       "      <td>8.000000</td>\n",
       "      <td>8.000000</td>\n",
       "    </tr>\n",
       "    <tr>\n",
       "      <th>max</th>\n",
       "      <td>21.000000</td>\n",
       "      <td>21.000000</td>\n",
       "      <td>21.000000</td>\n",
       "      <td>21.000000</td>\n",
       "      <td>21.000000</td>\n",
       "    </tr>\n",
       "  </tbody>\n",
       "</table>\n",
       "</div>"
      ],
      "text/plain": [
       "education       Bachelor        College        Doctor  High School or Below  \\\n",
       "count      253752.000000  102672.000000  17856.000000          19008.000000   \n",
       "mean            4.091093       4.153012      4.146281              4.155777   \n",
       "std             5.216995       5.242136      5.250093              5.234551   \n",
       "min             0.000000       0.000000      0.000000              0.000000   \n",
       "25%             0.000000       0.000000      0.000000              0.000000   \n",
       "50%             1.000000       1.000000      1.000000              1.000000   \n",
       "75%             8.000000       8.000000      8.000000              8.000000   \n",
       "max            21.000000      21.000000     21.000000             21.000000   \n",
       "\n",
       "education        Master  \n",
       "count      12336.000000  \n",
       "mean           4.184014  \n",
       "std            5.210294  \n",
       "min            0.000000  \n",
       "25%            0.000000  \n",
       "50%            1.000000  \n",
       "75%            8.000000  \n",
       "max           21.000000  "
      ]
     },
     "execution_count": 259,
     "metadata": {},
     "output_type": "execute_result"
    }
   ],
   "source": [
    "educacion_vuelos = df_filtrado.groupby('education')['flights_booked'].describe()\n",
    "educacion_vuelos.T"
   ]
  },
  {
   "cell_type": "markdown",
   "metadata": {},
   "source": [
    "Primeras Observaciones:\n",
    "\n",
    "- El grupo que reserva más vuelos (count) es bachelor\n",
    "- La media de vuelvos reservados por cliente es muy similar entre los grupos, alrededor del 4.1%\n",
    "- La mediana es 1 (percentil 50%). Significa que el 50% del grupo ha comprado más de un vuelo, el otro 50% menos de un vuelo."
   ]
  },
  {
   "cell_type": "markdown",
   "metadata": {},
   "source": [
    "3. **Prueba Estadística:**\n",
    "\n",
    "Realiza una prueba de A/B testing para determinar si existe una diferencia significativa en el número de vuelos reservados entre los diferentes niveles educativos."
   ]
  },
  {
   "cell_type": "markdown",
   "metadata": {},
   "source": [
    "Hipotesis:\n",
    "\n",
    "H0: Todos los datos son iguales, por lo que no hay una diferencia significativa entre el número de vuelos reservados en comparación con los niveles educativos\n",
    "\n",
    "H2: Hay discrepancia. Existe diferencia significativa entre el número de vuelos reservados en comparación con los niveles educativos\n",
    "\n",
    "Cómo se tiene que analizar más de tres grupos se puede usar el Test de ANOVA.\n"
   ]
  },
  {
   "cell_type": "code",
   "execution_count": 260,
   "metadata": {},
   "outputs": [
    {
     "name": "stdout",
     "output_type": "stream",
     "text": [
      "Hay diferencias significativas el número de vuelos promedio entre al menos dos grupos.\n",
      "\n",
      " ---------- \n",
      "\n",
      "\n",
      "          Los resultados sugieren que existe evidencia estadística para afirmar que las medias de las muestras son distintas.    \n",
      "          \n"
     ]
    }
   ],
   "source": [
    "# Creo una lista para almacenar los grupos educativos\n",
    "niveles_educativos = df_filtrado['education'].unique()\n",
    "grupos_educativos = [df_filtrado[df_filtrado['education'] == nivel]['flights_booked'] for nivel in niveles_educativos]\n",
    "\n",
    "# Realizo la prueba de ANOVA\n",
    "anova_resultado = stats.f_oneway(*grupos_educativos).pvalue\n",
    "\n",
    "anova_resultado\n",
    "\n",
    "alpha = 0.05\n",
    "if anova_resultado < alpha:\n",
    "    print(\"Hay diferencias significativas el número de vuelos promedio entre al menos dos grupos.\")\n",
    "    print(\"\\n ---------- \\n\")\n",
    "    print(\"\"\"\n",
    "          Los resultados sugieren que existe evidencia estadística para afirmar que las medias de las muestras son distintas.    \n",
    "          \"\"\")\n",
    "\n",
    "else:\n",
    "    print(\"No hay evidencia de diferencias significativas en el el número de vuelos promedio entre los grupos.\")\n",
    "    print(\"\\n ---------- \\n\")\n",
    "    print(\"\"\" \n",
    "          Los resultados sugieren que no existe evidencia estadística para afirmar que las medias de las muestras son distintas,\n",
    "          \"\"\")\n"
   ]
  },
  {
   "cell_type": "markdown",
   "metadata": {},
   "source": [
    "**Interpretación:**\n",
    "\n",
    "- Como p_value < 0.05 -> rechazamos la hipotesis nula, es decir, no todas las medias son iguales entre todos los grupos educativos y el número de vuelos hechos. "
   ]
  },
  {
   "cell_type": "markdown",
   "metadata": {},
   "source": [
    "Podemos visualizar en un violinplot cada grupo educativo para ver la proporción de vuelos y ver si hay valores atípicos:"
   ]
  },
  {
   "cell_type": "code",
   "execution_count": 261,
   "metadata": {},
   "outputs": [
    {
     "data": {
      "text/plain": [
       "''"
      ]
     },
     "execution_count": 261,
     "metadata": {},
     "output_type": "execute_result"
    },
    {
     "data": {
      "image/png": "[encoded data removed]",
      "text/plain": [
       "<Figure size 864x576 with 1 Axes>"
      ]
     },
     "metadata": {},
     "output_type": "display_data"
    }
   ],
   "source": [
    "# Crear un boxplot para cada grupo educativo\n",
    "plt.figure(figsize=(12, 8))\n",
    "sns.violinplot(x='education', y='flights_booked', data=df_filtrado)\n",
    "\n",
    "# Añadir etiquetas y título\n",
    "plt.xlabel('Nivel Educativo')\n",
    "plt.ylabel('Número de Vuelos Reservados')\n",
    "plt.title('Boxplot del Número de Vuelos Reservados por Nivel Educativo')\n",
    ";"
   ]
  },
  {
   "cell_type": "markdown",
   "metadata": {},
   "source": [
    "No se aprecian a simple vista discrepancias significativas entre grupos"
   ]
  },
  {
   "cell_type": "markdown",
   "metadata": {},
   "source": [
    "______\n",
    "Test de normalidad\n",
    "\n",
    "Para grupos grandes: test de Kolmogorov-Smirnov "
   ]
  },
  {
   "cell_type": "markdown",
   "metadata": {},
   "source": [
    "_____"
   ]
  },
  {
   "cell_type": "code",
   "execution_count": 262,
   "metadata": {},
   "outputs": [
    {
     "data": {
      "text/html": [
       "<div>\n",
       "<style scoped>\n",
       "    .dataframe tbody tr th:only-of-type {\n",
       "        vertical-align: middle;\n",
       "    }\n",
       "\n",
       "    .dataframe tbody tr th {\n",
       "        vertical-align: top;\n",
       "    }\n",
       "\n",
       "    .dataframe thead th {\n",
       "        text-align: right;\n",
       "    }\n",
       "</style>\n",
       "<table border=\"1\" class=\"dataframe\">\n",
       "  <thead>\n",
       "    <tr style=\"text-align: right;\">\n",
       "      <th></th>\n",
       "      <th>education</th>\n",
       "      <th>flights_booked</th>\n",
       "    </tr>\n",
       "  </thead>\n",
       "  <tbody>\n",
       "    <tr>\n",
       "      <th>0</th>\n",
       "      <td>Bachelor</td>\n",
       "      <td>1038123</td>\n",
       "    </tr>\n",
       "    <tr>\n",
       "      <th>1</th>\n",
       "      <td>College</td>\n",
       "      <td>426398</td>\n",
       "    </tr>\n",
       "    <tr>\n",
       "      <th>2</th>\n",
       "      <td>Doctor</td>\n",
       "      <td>74036</td>\n",
       "    </tr>\n",
       "    <tr>\n",
       "      <th>3</th>\n",
       "      <td>High School or Below</td>\n",
       "      <td>78993</td>\n",
       "    </tr>\n",
       "    <tr>\n",
       "      <th>4</th>\n",
       "      <td>Master</td>\n",
       "      <td>51614</td>\n",
       "    </tr>\n",
       "  </tbody>\n",
       "</table>\n",
       "</div>"
      ],
      "text/plain": [
       "              education  flights_booked\n",
       "0              Bachelor         1038123\n",
       "1               College          426398\n",
       "2                Doctor           74036\n",
       "3  High School or Below           78993\n",
       "4                Master           51614"
      ]
     },
     "execution_count": 262,
     "metadata": {},
     "output_type": "execute_result"
    }
   ],
   "source": [
    "cat_estudios = df_filtrado.groupby('education').sum().reset_index()\n",
    "cat_estudios"
   ]
  },
  {
   "cell_type": "code",
   "execution_count": 263,
   "metadata": {},
   "outputs": [
    {
     "data": {
      "text/plain": [
       "['Bachelor', 'College', 'Doctor', 'High School or Below', 'Master']"
      ]
     },
     "execution_count": 263,
     "metadata": {},
     "output_type": "execute_result"
    }
   ],
   "source": [
    "categorias_educacion = cat_estudios['education'].unique().tolist()\n",
    "categorias_educacion"
   ]
  },
  {
   "cell_type": "code",
   "execution_count": 264,
   "metadata": {},
   "outputs": [
    {
     "data": {
      "text/plain": [
       "[('Bachelor', 'College'),\n",
       " ('Bachelor', 'Doctor'),\n",
       " ('Bachelor', 'High School or Below'),\n",
       " ('Bachelor', 'Master'),\n",
       " ('College', 'Doctor'),\n",
       " ('College', 'High School or Below'),\n",
       " ('College', 'Master'),\n",
       " ('Doctor', 'High School or Below'),\n",
       " ('Doctor', 'Master'),\n",
       " ('High School or Below', 'Master')]"
      ]
     },
     "execution_count": 264,
     "metadata": {},
     "output_type": "execute_result"
    }
   ],
   "source": [
    "combinaciones_educacion = list(combinations(categorias_educacion, 2))\n",
    "combinaciones_educacion "
   ]
  },
  {
   "cell_type": "code",
   "execution_count": 265,
   "metadata": {},
   "outputs": [
    {
     "name": "stdout",
     "output_type": "stream",
     "text": [
      " En ('Bachelor', 'College') ---> No hay evidencia de diferencias significativas en el número de vuelos promedio entre los grupos.\n",
      "\n",
      " ---------- \n",
      "\n",
      " \n",
      "            Los resultados sugieren que no existe evidencia estadística para afirmar que las medias de las muestras son distintas,\n",
      "            \n",
      "\n",
      " ------------------------------------------------------------------- \n",
      "\n",
      " En ('Bachelor', 'Doctor') ---> No hay evidencia de diferencias significativas en el número de vuelos promedio entre los grupos.\n",
      "\n",
      " ---------- \n",
      "\n",
      " \n",
      "            Los resultados sugieren que no existe evidencia estadística para afirmar que las medias de las muestras son distintas,\n",
      "            \n",
      "\n",
      " ------------------------------------------------------------------- \n",
      "\n",
      " En ('Bachelor', 'High School or Below') ---> No hay evidencia de diferencias significativas en el número de vuelos promedio entre los grupos.\n",
      "\n",
      " ---------- \n",
      "\n",
      " \n",
      "            Los resultados sugieren que no existe evidencia estadística para afirmar que las medias de las muestras son distintas,\n",
      "            \n",
      "\n",
      " ------------------------------------------------------------------- \n",
      "\n",
      " En ('Bachelor', 'Master') ---> No hay evidencia de diferencias significativas en el número de vuelos promedio entre los grupos.\n",
      "\n",
      " ---------- \n",
      "\n",
      " \n",
      "            Los resultados sugieren que no existe evidencia estadística para afirmar que las medias de las muestras son distintas,\n",
      "            \n",
      "\n",
      " ------------------------------------------------------------------- \n",
      "\n",
      " En ('College', 'Doctor') ---> No hay evidencia de diferencias significativas en el número de vuelos promedio entre los grupos.\n",
      "\n",
      " ---------- \n",
      "\n",
      " \n",
      "            Los resultados sugieren que no existe evidencia estadística para afirmar que las medias de las muestras son distintas,\n",
      "            \n",
      "\n",
      " ------------------------------------------------------------------- \n",
      "\n",
      " En ('College', 'High School or Below') ---> No hay evidencia de diferencias significativas en el número de vuelos promedio entre los grupos.\n",
      "\n",
      " ---------- \n",
      "\n",
      " \n",
      "            Los resultados sugieren que no existe evidencia estadística para afirmar que las medias de las muestras son distintas,\n",
      "            \n",
      "\n",
      " ------------------------------------------------------------------- \n",
      "\n",
      " En ('College', 'Master') ---> No hay evidencia de diferencias significativas en el número de vuelos promedio entre los grupos.\n",
      "\n",
      " ---------- \n",
      "\n",
      " \n",
      "            Los resultados sugieren que no existe evidencia estadística para afirmar que las medias de las muestras son distintas,\n",
      "            \n",
      "\n",
      " ------------------------------------------------------------------- \n",
      "\n",
      " En ('Doctor', 'High School or Below') ---> No hay evidencia de diferencias significativas en el número de vuelos promedio entre los grupos.\n",
      "\n",
      " ---------- \n",
      "\n",
      " \n",
      "            Los resultados sugieren que no existe evidencia estadística para afirmar que las medias de las muestras son distintas,\n",
      "            \n",
      "\n",
      " ------------------------------------------------------------------- \n",
      "\n",
      " En ('Doctor', 'Master') ---> No hay evidencia de diferencias significativas en el número de vuelos promedio entre los grupos.\n",
      "\n",
      " ---------- \n",
      "\n",
      " \n",
      "            Los resultados sugieren que no existe evidencia estadística para afirmar que las medias de las muestras son distintas,\n",
      "            \n",
      "\n",
      " ------------------------------------------------------------------- \n",
      "\n",
      " En ('High School or Below', 'Master') ---> No hay evidencia de diferencias significativas en el número de vuelos promedio entre los grupos.\n",
      "\n",
      " ---------- \n",
      "\n",
      " \n",
      "            Los resultados sugieren que no existe evidencia estadística para afirmar que las medias de las muestras son distintas,\n",
      "            \n",
      "\n",
      " ------------------------------------------------------------------- \n",
      "\n"
     ]
    }
   ],
   "source": [
    "# Realizar la prueba t de Student para cada combinación\n",
    "for combinacion in combinaciones_educacion:\n",
    "    grupo_1 = df_muestra[df_muestra['education'] == combinacion[0]]['flights_booked']\n",
    "    grupo_2 = df_muestra[df_muestra['education'] == combinacion[1]]['flights_booked']\n",
    "\n",
    "    # Aplicar la prueba t de Student\n",
    "    estadistico_t, p_valor_t = ttest_ind(grupo_1, grupo_2)\n",
    "\n",
    "    alpha = 0.05\n",
    "    if p_valor_t < alpha:\n",
    "        print(f\" En {combinacion} --->Hay diferencias significativas el número de vuelos promedio entre al menos dos grupos .\")\n",
    "        print(\"\\n ---------- \\n\")\n",
    "        print(\"\"\"\n",
    "            Los resultados sugieren que existe evidencia estadística para afirmar que las medias de las muestras son distintas.    \n",
    "            \"\"\")\n",
    "        print(\"\\n ------------------------------------------------------------------- \\n\")\n",
    "\n",
    "    else:\n",
    "        print(f\" En {combinacion} ---> No hay evidencia de diferencias significativas en el número de vuelos promedio entre los grupos.\")\n",
    "        print(\"\\n ---------- \\n\")\n",
    "        print(\"\"\" \n",
    "            Los resultados sugieren que no existe evidencia estadística para afirmar que las medias de las muestras son distintas,\n",
    "            \"\"\")\n",
    "        print(\"\\n ------------------------------------------------------------------- \\n\")\n",
    "\n",
    "\n",
    "\n",
    "    #print(f\"Comparación entre {combinacion[0]} y {combinacion[1]}:\")\n",
    "    #print(f\"Estadístico t: {estadistico_t}\")\n",
    "   # print(f\"P-valor: {p_valor_t}\")\n",
    "    \n",
    "\n",
    "    \n",
    "    #print(\"\\n\")"
   ]
  },
  {
   "cell_type": "markdown",
   "metadata": {},
   "source": [
    "Después de este segundo test nos indica que no hay diferencias significativas entre el número de vuelos hechos por categoría educativa.\n",
    "\n",
    "Exoste una discrepancia en relación al primer test de ANOVA. "
   ]
  }
 ],
 "metadata": {
  "kernelspec": {
   "display_name": "base",
   "language": "python",
   "name": "python3"
  },
  "language_info": {
   "codemirror_mode": {
    "name": "ipython",
    "version": 3
   },
   "file_extension": ".py",
   "mimetype": "text/x-python",
   "name": "python",
   "nbconvert_exporter": "python",
   "pygments_lexer": "ipython3",
   "version": "3.9.7"
  }
 },
 "nbformat": 4,
 "nbformat_minor": 2
}
